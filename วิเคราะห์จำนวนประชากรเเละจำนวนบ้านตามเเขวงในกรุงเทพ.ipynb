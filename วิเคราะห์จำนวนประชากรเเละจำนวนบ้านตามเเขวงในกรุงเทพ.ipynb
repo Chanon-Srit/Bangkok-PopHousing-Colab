{
  "nbformat": 4,
  "nbformat_minor": 0,
  "metadata": {
    "colab": {
      "provenance": [],
      "include_colab_link": true
    },
    "kernelspec": {
      "name": "python3",
      "display_name": "Python 3"
    },
    "language_info": {
      "name": "python"
    }
  },
  "cells": [
    {
      "cell_type": "markdown",
      "metadata": {
        "id": "view-in-github",
        "colab_type": "text"
      },
      "source": [
        "<a href=\"https://colab.research.google.com/github/Chanon-Srit/Bangkok-PopHousing-Colab/blob/main/%E0%B8%A7%E0%B8%B4%E0%B9%80%E0%B8%84%E0%B8%A3%E0%B8%B2%E0%B8%B0%E0%B8%AB%E0%B9%8C%E0%B8%88%E0%B8%B3%E0%B8%99%E0%B8%A7%E0%B8%99%E0%B8%9B%E0%B8%A3%E0%B8%B0%E0%B8%8A%E0%B8%B2%E0%B8%81%E0%B8%A3%E0%B9%80%E0%B9%80%E0%B8%A5%E0%B8%B0%E0%B8%88%E0%B8%B3%E0%B8%99%E0%B8%A7%E0%B8%99%E0%B8%9A%E0%B9%89%E0%B8%B2%E0%B8%99%E0%B8%95%E0%B8%B2%E0%B8%A1%E0%B9%80%E0%B9%80%E0%B8%82%E0%B8%A7%E0%B8%87%E0%B9%83%E0%B8%99%E0%B8%81%E0%B8%A3%E0%B8%B8%E0%B8%87%E0%B9%80%E0%B8%97%E0%B8%9E.ipynb\" target=\"_parent\"><img src=\"https://colab.research.google.com/assets/colab-badge.svg\" alt=\"Open In Colab\"/></a>"
      ]
    },
    {
      "cell_type": "markdown",
      "source": [
        "*** ชานน์ ศรีตุลาการ 6409682645 ***"
      ],
      "metadata": {
        "id": "6aOtlH5dHUzV"
      }
    },
    {
      "cell_type": "markdown",
      "source": [
        "# DataSet\n",
        "\n",
        "\n",
        "\n",
        "> [popperarea.csv](https://drive.google.com/file/d/1ZllcSnBofYnByhtpxLtEB96uTKs-K7L5/view?usp=share_link) &\n",
        "[popperarea.docx](https://docs.google.com/document/d/15YfbltbdyC3gNxHycUk1u1F9R6xI5N0u/edit?usp=share_link&ouid=112559447565222891708&rtpof=true&sd=true)\n",
        "\n",
        "*ข้อมูลจำนวนประชากรชาย – หญิง ขนาดพื้นที่ จำนวนบ้าน จำแนกตามแขวง (กรุงเทพมหานคร)*\n",
        "\n"
      ],
      "metadata": {
        "id": "R66oLhMxHawJ"
      }
    },
    {
      "cell_type": "markdown",
      "source": [
        "#  Data wrangling\n",
        "\n",
        "---\n",
        "\n",
        "\n",
        "ขั้นตอนของการทำความสะอาดข้อมูล"
      ],
      "metadata": {
        "id": "WGsMWcVM39Xf"
      }
    },
    {
      "cell_type": "code",
      "metadata": {
        "id": "4YIssfaTQMPI"
      },
      "source": [
        "import pandas as pd\n",
        "import numpy as np"
      ],
      "execution_count": null,
      "outputs": []
    },
    {
      "cell_type": "code",
      "source": [
        "from google.colab import drive\n",
        "drive.mount('/content/drive',force_remount=True)\n",
        "popperarea = pd.read_csv('/content/drive/MyDrive/cs245_project/popperarea.csv')\n",
        "popperarea"
      ],
      "metadata": {
        "colab": {
          "base_uri": "https://localhost:8080/",
          "height": 505
        },
        "id": "zA0x6lFDzq-2",
        "outputId": "b9f5ed1d-f811-4faa-f764-7ef022cb078f"
      },
      "execution_count": null,
      "outputs": [
        {
          "output_type": "stream",
          "name": "stdout",
          "text": [
            "Mounted at /content/drive\n"
          ]
        },
        {
          "output_type": "execute_result",
          "data": {
            "text/plain": [
              "      scode  dcode  male54  female54  male55  female55  male56  female56  \\\n",
              "0    105001   1050   50376     54392   50478     54683   50830     55255   \n",
              "1    104901   1049   24501     27586   24730     27869   25097     28254   \n",
              "2    104902   1049   30073     33663   30179     33745   30360     33951   \n",
              "3    104802   1048   24783     28688   24997     29056   25213     29246   \n",
              "4    104801   1048   10413     11576   10490     11731   10542     11786   \n",
              "..      ...    ...     ...       ...     ...       ...     ...       ...   \n",
              "164  100110   1001    3435      4432    3366      4396    3262      4275   \n",
              "165  100111   1001    2749      2680    2653      2586    2591      2548   \n",
              "166  100107   1001    2598      3413    2535      3346    2454      3240   \n",
              "167  100108   1001    1321      1662    1302      1634    1271      1576   \n",
              "168  100109   1001    1070      1163    1052      1127    1028      1113   \n",
              "\n",
              "     male57  female57  ...  area60  area61  house54  house55  house56  \\\n",
              "0     51309     55831  ...     0.0  34.745    45758    47110    47459   \n",
              "1     25182     28597  ...     0.0  12.765    23674    24609    24204   \n",
              "2     31002     34568  ...     0.0  17.976    22538    23404    22926   \n",
              "3     25370     29344  ...     0.0  28.698    22430    22692    22938   \n",
              "4     10603     11804  ...     0.0  21.521     7610     7765     7895   \n",
              "..      ...       ...  ...     ...     ...      ...      ...      ...   \n",
              "164    3200      4171  ...     0.0   0.414     2025     2028     2030   \n",
              "165    2514      2515  ...     0.0   0.458     2101     2103     2104   \n",
              "166    2372      3093  ...     0.0   0.496     1640     1634     1637   \n",
              "167    1244      1519  ...     0.0   0.193     1225     1225     1225   \n",
              "168    1013      1101  ...     0.0   0.339      822      825      825   \n",
              "\n",
              "     house57  house58  house59  house60  house61  \n",
              "0      48301    48875    49489        0    49489  \n",
              "1      24644    25473    25899        0    25899  \n",
              "2      23180    23407    24385        0    24385  \n",
              "3      23260    23438    23916        0    23916  \n",
              "4       8077     8165     8413        0     8413  \n",
              "..       ...      ...      ...      ...      ...  \n",
              "164     2032     2032     2032        0     2032  \n",
              "165     2105     2105     2106        0     2106  \n",
              "166     1631     1634     1635        0     1635  \n",
              "167     1210     1211     1212        0     1212  \n",
              "168      826      825      826        0      826  \n",
              "\n",
              "[169 rows x 34 columns]"
            ],
            "text/html": [
              "\n",
              "  <div id=\"df-9fc9f7fb-41e2-4657-b6a8-809fb23682ed\">\n",
              "    <div class=\"colab-df-container\">\n",
              "      <div>\n",
              "<style scoped>\n",
              "    .dataframe tbody tr th:only-of-type {\n",
              "        vertical-align: middle;\n",
              "    }\n",
              "\n",
              "    .dataframe tbody tr th {\n",
              "        vertical-align: top;\n",
              "    }\n",
              "\n",
              "    .dataframe thead th {\n",
              "        text-align: right;\n",
              "    }\n",
              "</style>\n",
              "<table border=\"1\" class=\"dataframe\">\n",
              "  <thead>\n",
              "    <tr style=\"text-align: right;\">\n",
              "      <th></th>\n",
              "      <th>scode</th>\n",
              "      <th>dcode</th>\n",
              "      <th>male54</th>\n",
              "      <th>female54</th>\n",
              "      <th>male55</th>\n",
              "      <th>female55</th>\n",
              "      <th>male56</th>\n",
              "      <th>female56</th>\n",
              "      <th>male57</th>\n",
              "      <th>female57</th>\n",
              "      <th>...</th>\n",
              "      <th>area60</th>\n",
              "      <th>area61</th>\n",
              "      <th>house54</th>\n",
              "      <th>house55</th>\n",
              "      <th>house56</th>\n",
              "      <th>house57</th>\n",
              "      <th>house58</th>\n",
              "      <th>house59</th>\n",
              "      <th>house60</th>\n",
              "      <th>house61</th>\n",
              "    </tr>\n",
              "  </thead>\n",
              "  <tbody>\n",
              "    <tr>\n",
              "      <th>0</th>\n",
              "      <td>105001</td>\n",
              "      <td>1050</td>\n",
              "      <td>50376</td>\n",
              "      <td>54392</td>\n",
              "      <td>50478</td>\n",
              "      <td>54683</td>\n",
              "      <td>50830</td>\n",
              "      <td>55255</td>\n",
              "      <td>51309</td>\n",
              "      <td>55831</td>\n",
              "      <td>...</td>\n",
              "      <td>0.0</td>\n",
              "      <td>34.745</td>\n",
              "      <td>45758</td>\n",
              "      <td>47110</td>\n",
              "      <td>47459</td>\n",
              "      <td>48301</td>\n",
              "      <td>48875</td>\n",
              "      <td>49489</td>\n",
              "      <td>0</td>\n",
              "      <td>49489</td>\n",
              "    </tr>\n",
              "    <tr>\n",
              "      <th>1</th>\n",
              "      <td>104901</td>\n",
              "      <td>1049</td>\n",
              "      <td>24501</td>\n",
              "      <td>27586</td>\n",
              "      <td>24730</td>\n",
              "      <td>27869</td>\n",
              "      <td>25097</td>\n",
              "      <td>28254</td>\n",
              "      <td>25182</td>\n",
              "      <td>28597</td>\n",
              "      <td>...</td>\n",
              "      <td>0.0</td>\n",
              "      <td>12.765</td>\n",
              "      <td>23674</td>\n",
              "      <td>24609</td>\n",
              "      <td>24204</td>\n",
              "      <td>24644</td>\n",
              "      <td>25473</td>\n",
              "      <td>25899</td>\n",
              "      <td>0</td>\n",
              "      <td>25899</td>\n",
              "    </tr>\n",
              "    <tr>\n",
              "      <th>2</th>\n",
              "      <td>104902</td>\n",
              "      <td>1049</td>\n",
              "      <td>30073</td>\n",
              "      <td>33663</td>\n",
              "      <td>30179</td>\n",
              "      <td>33745</td>\n",
              "      <td>30360</td>\n",
              "      <td>33951</td>\n",
              "      <td>31002</td>\n",
              "      <td>34568</td>\n",
              "      <td>...</td>\n",
              "      <td>0.0</td>\n",
              "      <td>17.976</td>\n",
              "      <td>22538</td>\n",
              "      <td>23404</td>\n",
              "      <td>22926</td>\n",
              "      <td>23180</td>\n",
              "      <td>23407</td>\n",
              "      <td>24385</td>\n",
              "      <td>0</td>\n",
              "      <td>24385</td>\n",
              "    </tr>\n",
              "    <tr>\n",
              "      <th>3</th>\n",
              "      <td>104802</td>\n",
              "      <td>1048</td>\n",
              "      <td>24783</td>\n",
              "      <td>28688</td>\n",
              "      <td>24997</td>\n",
              "      <td>29056</td>\n",
              "      <td>25213</td>\n",
              "      <td>29246</td>\n",
              "      <td>25370</td>\n",
              "      <td>29344</td>\n",
              "      <td>...</td>\n",
              "      <td>0.0</td>\n",
              "      <td>28.698</td>\n",
              "      <td>22430</td>\n",
              "      <td>22692</td>\n",
              "      <td>22938</td>\n",
              "      <td>23260</td>\n",
              "      <td>23438</td>\n",
              "      <td>23916</td>\n",
              "      <td>0</td>\n",
              "      <td>23916</td>\n",
              "    </tr>\n",
              "    <tr>\n",
              "      <th>4</th>\n",
              "      <td>104801</td>\n",
              "      <td>1048</td>\n",
              "      <td>10413</td>\n",
              "      <td>11576</td>\n",
              "      <td>10490</td>\n",
              "      <td>11731</td>\n",
              "      <td>10542</td>\n",
              "      <td>11786</td>\n",
              "      <td>10603</td>\n",
              "      <td>11804</td>\n",
              "      <td>...</td>\n",
              "      <td>0.0</td>\n",
              "      <td>21.521</td>\n",
              "      <td>7610</td>\n",
              "      <td>7765</td>\n",
              "      <td>7895</td>\n",
              "      <td>8077</td>\n",
              "      <td>8165</td>\n",
              "      <td>8413</td>\n",
              "      <td>0</td>\n",
              "      <td>8413</td>\n",
              "    </tr>\n",
              "    <tr>\n",
              "      <th>...</th>\n",
              "      <td>...</td>\n",
              "      <td>...</td>\n",
              "      <td>...</td>\n",
              "      <td>...</td>\n",
              "      <td>...</td>\n",
              "      <td>...</td>\n",
              "      <td>...</td>\n",
              "      <td>...</td>\n",
              "      <td>...</td>\n",
              "      <td>...</td>\n",
              "      <td>...</td>\n",
              "      <td>...</td>\n",
              "      <td>...</td>\n",
              "      <td>...</td>\n",
              "      <td>...</td>\n",
              "      <td>...</td>\n",
              "      <td>...</td>\n",
              "      <td>...</td>\n",
              "      <td>...</td>\n",
              "      <td>...</td>\n",
              "      <td>...</td>\n",
              "    </tr>\n",
              "    <tr>\n",
              "      <th>164</th>\n",
              "      <td>100110</td>\n",
              "      <td>1001</td>\n",
              "      <td>3435</td>\n",
              "      <td>4432</td>\n",
              "      <td>3366</td>\n",
              "      <td>4396</td>\n",
              "      <td>3262</td>\n",
              "      <td>4275</td>\n",
              "      <td>3200</td>\n",
              "      <td>4171</td>\n",
              "      <td>...</td>\n",
              "      <td>0.0</td>\n",
              "      <td>0.414</td>\n",
              "      <td>2025</td>\n",
              "      <td>2028</td>\n",
              "      <td>2030</td>\n",
              "      <td>2032</td>\n",
              "      <td>2032</td>\n",
              "      <td>2032</td>\n",
              "      <td>0</td>\n",
              "      <td>2032</td>\n",
              "    </tr>\n",
              "    <tr>\n",
              "      <th>165</th>\n",
              "      <td>100111</td>\n",
              "      <td>1001</td>\n",
              "      <td>2749</td>\n",
              "      <td>2680</td>\n",
              "      <td>2653</td>\n",
              "      <td>2586</td>\n",
              "      <td>2591</td>\n",
              "      <td>2548</td>\n",
              "      <td>2514</td>\n",
              "      <td>2515</td>\n",
              "      <td>...</td>\n",
              "      <td>0.0</td>\n",
              "      <td>0.458</td>\n",
              "      <td>2101</td>\n",
              "      <td>2103</td>\n",
              "      <td>2104</td>\n",
              "      <td>2105</td>\n",
              "      <td>2105</td>\n",
              "      <td>2106</td>\n",
              "      <td>0</td>\n",
              "      <td>2106</td>\n",
              "    </tr>\n",
              "    <tr>\n",
              "      <th>166</th>\n",
              "      <td>100107</td>\n",
              "      <td>1001</td>\n",
              "      <td>2598</td>\n",
              "      <td>3413</td>\n",
              "      <td>2535</td>\n",
              "      <td>3346</td>\n",
              "      <td>2454</td>\n",
              "      <td>3240</td>\n",
              "      <td>2372</td>\n",
              "      <td>3093</td>\n",
              "      <td>...</td>\n",
              "      <td>0.0</td>\n",
              "      <td>0.496</td>\n",
              "      <td>1640</td>\n",
              "      <td>1634</td>\n",
              "      <td>1637</td>\n",
              "      <td>1631</td>\n",
              "      <td>1634</td>\n",
              "      <td>1635</td>\n",
              "      <td>0</td>\n",
              "      <td>1635</td>\n",
              "    </tr>\n",
              "    <tr>\n",
              "      <th>167</th>\n",
              "      <td>100108</td>\n",
              "      <td>1001</td>\n",
              "      <td>1321</td>\n",
              "      <td>1662</td>\n",
              "      <td>1302</td>\n",
              "      <td>1634</td>\n",
              "      <td>1271</td>\n",
              "      <td>1576</td>\n",
              "      <td>1244</td>\n",
              "      <td>1519</td>\n",
              "      <td>...</td>\n",
              "      <td>0.0</td>\n",
              "      <td>0.193</td>\n",
              "      <td>1225</td>\n",
              "      <td>1225</td>\n",
              "      <td>1225</td>\n",
              "      <td>1210</td>\n",
              "      <td>1211</td>\n",
              "      <td>1212</td>\n",
              "      <td>0</td>\n",
              "      <td>1212</td>\n",
              "    </tr>\n",
              "    <tr>\n",
              "      <th>168</th>\n",
              "      <td>100109</td>\n",
              "      <td>1001</td>\n",
              "      <td>1070</td>\n",
              "      <td>1163</td>\n",
              "      <td>1052</td>\n",
              "      <td>1127</td>\n",
              "      <td>1028</td>\n",
              "      <td>1113</td>\n",
              "      <td>1013</td>\n",
              "      <td>1101</td>\n",
              "      <td>...</td>\n",
              "      <td>0.0</td>\n",
              "      <td>0.339</td>\n",
              "      <td>822</td>\n",
              "      <td>825</td>\n",
              "      <td>825</td>\n",
              "      <td>826</td>\n",
              "      <td>825</td>\n",
              "      <td>826</td>\n",
              "      <td>0</td>\n",
              "      <td>826</td>\n",
              "    </tr>\n",
              "  </tbody>\n",
              "</table>\n",
              "<p>169 rows × 34 columns</p>\n",
              "</div>\n",
              "      <button class=\"colab-df-convert\" onclick=\"convertToInteractive('df-9fc9f7fb-41e2-4657-b6a8-809fb23682ed')\"\n",
              "              title=\"Convert this dataframe to an interactive table.\"\n",
              "              style=\"display:none;\">\n",
              "        \n",
              "  <svg xmlns=\"http://www.w3.org/2000/svg\" height=\"24px\"viewBox=\"0 0 24 24\"\n",
              "       width=\"24px\">\n",
              "    <path d=\"M0 0h24v24H0V0z\" fill=\"none\"/>\n",
              "    <path d=\"M18.56 5.44l.94 2.06.94-2.06 2.06-.94-2.06-.94-.94-2.06-.94 2.06-2.06.94zm-11 1L8.5 8.5l.94-2.06 2.06-.94-2.06-.94L8.5 2.5l-.94 2.06-2.06.94zm10 10l.94 2.06.94-2.06 2.06-.94-2.06-.94-.94-2.06-.94 2.06-2.06.94z\"/><path d=\"M17.41 7.96l-1.37-1.37c-.4-.4-.92-.59-1.43-.59-.52 0-1.04.2-1.43.59L10.3 9.45l-7.72 7.72c-.78.78-.78 2.05 0 2.83L4 21.41c.39.39.9.59 1.41.59.51 0 1.02-.2 1.41-.59l7.78-7.78 2.81-2.81c.8-.78.8-2.07 0-2.86zM5.41 20L4 18.59l7.72-7.72 1.47 1.35L5.41 20z\"/>\n",
              "  </svg>\n",
              "      </button>\n",
              "      \n",
              "  <style>\n",
              "    .colab-df-container {\n",
              "      display:flex;\n",
              "      flex-wrap:wrap;\n",
              "      gap: 12px;\n",
              "    }\n",
              "\n",
              "    .colab-df-convert {\n",
              "      background-color: #E8F0FE;\n",
              "      border: none;\n",
              "      border-radius: 50%;\n",
              "      cursor: pointer;\n",
              "      display: none;\n",
              "      fill: #1967D2;\n",
              "      height: 32px;\n",
              "      padding: 0 0 0 0;\n",
              "      width: 32px;\n",
              "    }\n",
              "\n",
              "    .colab-df-convert:hover {\n",
              "      background-color: #E2EBFA;\n",
              "      box-shadow: 0px 1px 2px rgba(60, 64, 67, 0.3), 0px 1px 3px 1px rgba(60, 64, 67, 0.15);\n",
              "      fill: #174EA6;\n",
              "    }\n",
              "\n",
              "    [theme=dark] .colab-df-convert {\n",
              "      background-color: #3B4455;\n",
              "      fill: #D2E3FC;\n",
              "    }\n",
              "\n",
              "    [theme=dark] .colab-df-convert:hover {\n",
              "      background-color: #434B5C;\n",
              "      box-shadow: 0px 1px 3px 1px rgba(0, 0, 0, 0.15);\n",
              "      filter: drop-shadow(0px 1px 2px rgba(0, 0, 0, 0.3));\n",
              "      fill: #FFFFFF;\n",
              "    }\n",
              "  </style>\n",
              "\n",
              "      <script>\n",
              "        const buttonEl =\n",
              "          document.querySelector('#df-9fc9f7fb-41e2-4657-b6a8-809fb23682ed button.colab-df-convert');\n",
              "        buttonEl.style.display =\n",
              "          google.colab.kernel.accessAllowed ? 'block' : 'none';\n",
              "\n",
              "        async function convertToInteractive(key) {\n",
              "          const element = document.querySelector('#df-9fc9f7fb-41e2-4657-b6a8-809fb23682ed');\n",
              "          const dataTable =\n",
              "            await google.colab.kernel.invokeFunction('convertToInteractive',\n",
              "                                                     [key], {});\n",
              "          if (!dataTable) return;\n",
              "\n",
              "          const docLinkHtml = 'Like what you see? Visit the ' +\n",
              "            '<a target=\"_blank\" href=https://colab.research.google.com/notebooks/data_table.ipynb>data table notebook</a>'\n",
              "            + ' to learn more about interactive tables.';\n",
              "          element.innerHTML = '';\n",
              "          dataTable['output_type'] = 'display_data';\n",
              "          await google.colab.output.renderOutput(dataTable, element);\n",
              "          const docLink = document.createElement('div');\n",
              "          docLink.innerHTML = docLinkHtml;\n",
              "          element.appendChild(docLink);\n",
              "        }\n",
              "      </script>\n",
              "    </div>\n",
              "  </div>\n",
              "  "
            ]
          },
          "metadata": {},
          "execution_count": 2
        }
      ]
    },
    {
      "cell_type": "code",
      "source": [
        "popperarea.info()"
      ],
      "metadata": {
        "colab": {
          "base_uri": "https://localhost:8080/"
        },
        "id": "Zmib0jCDxh5F",
        "outputId": "6d065c6c-cbab-4e57-9bd7-f9b26dbcc4aa"
      },
      "execution_count": null,
      "outputs": [
        {
          "output_type": "stream",
          "name": "stdout",
          "text": [
            "<class 'pandas.core.frame.DataFrame'>\n",
            "RangeIndex: 169 entries, 0 to 168\n",
            "Data columns (total 34 columns):\n",
            " #   Column    Non-Null Count  Dtype  \n",
            "---  ------    --------------  -----  \n",
            " 0   scode     169 non-null    int64  \n",
            " 1   dcode     169 non-null    int64  \n",
            " 2   male54    169 non-null    int64  \n",
            " 3   female54  169 non-null    int64  \n",
            " 4   male55    169 non-null    int64  \n",
            " 5   female55  169 non-null    int64  \n",
            " 6   male56    169 non-null    int64  \n",
            " 7   female56  169 non-null    int64  \n",
            " 8   male57    169 non-null    int64  \n",
            " 9   female57  169 non-null    int64  \n",
            " 10  male58    169 non-null    int64  \n",
            " 11  female58  169 non-null    int64  \n",
            " 12  male59    169 non-null    int64  \n",
            " 13  female59  169 non-null    int64  \n",
            " 14  male60    169 non-null    int64  \n",
            " 15  female60  169 non-null    int64  \n",
            " 16  male61    169 non-null    int64  \n",
            " 17  female61  169 non-null    int64  \n",
            " 18  area54    169 non-null    float64\n",
            " 19  area55    169 non-null    float64\n",
            " 20  area56    169 non-null    float64\n",
            " 21  area57    169 non-null    float64\n",
            " 22  area58    169 non-null    float64\n",
            " 23  area59    169 non-null    float64\n",
            " 24  area60    169 non-null    float64\n",
            " 25  area61    169 non-null    float64\n",
            " 26  house54   169 non-null    int64  \n",
            " 27  house55   169 non-null    int64  \n",
            " 28  house56   169 non-null    int64  \n",
            " 29  house57   169 non-null    int64  \n",
            " 30  house58   169 non-null    int64  \n",
            " 31  house59   169 non-null    int64  \n",
            " 32  house60   169 non-null    int64  \n",
            " 33  house61   169 non-null    int64  \n",
            "dtypes: float64(8), int64(26)\n",
            "memory usage: 45.0 KB\n"
          ]
        }
      ]
    },
    {
      "cell_type": "markdown",
      "source": [
        "\n",
        "\n",
        "\n",
        "\n",
        "\n",
        "\n",
        "\n",
        "> 1.   **ข้อมูลมีจำนวน 169 rows & 34 column**\n",
        "2.   **ข้อมูลครบทุก column** (34 column)\n",
        "3. **ชนิดข้อมูล float64(8), int64(26)**\n",
        "4. **ใช้พื้นที่ 45 KB**\n",
        "\n",
        "\n",
        "\n"
      ],
      "metadata": {
        "id": "XcKyxo-91-JP"
      }
    },
    {
      "cell_type": "code",
      "source": [
        "isZero = popperarea.eq(0).all()   # เป็นการตรวจว่าปีไหน(column(s))ไม่มีการก็บข้อมูล\n",
        "isZero"
      ],
      "metadata": {
        "colab": {
          "base_uri": "https://localhost:8080/"
        },
        "id": "sTwgUBrcI_vb",
        "outputId": "0c19443b-f312-454a-fcf7-db61ec2cc9c5"
      },
      "execution_count": null,
      "outputs": [
        {
          "output_type": "execute_result",
          "data": {
            "text/plain": [
              "scode       False\n",
              "dcode       False\n",
              "male54      False\n",
              "female54    False\n",
              "male55      False\n",
              "female55    False\n",
              "male56      False\n",
              "female56    False\n",
              "male57      False\n",
              "female57    False\n",
              "male58      False\n",
              "female58    False\n",
              "male59      False\n",
              "female59    False\n",
              "male60       True\n",
              "female60     True\n",
              "male61      False\n",
              "female61    False\n",
              "area54      False\n",
              "area55      False\n",
              "area56      False\n",
              "area57      False\n",
              "area58      False\n",
              "area59      False\n",
              "area60       True\n",
              "area61      False\n",
              "house54     False\n",
              "house55     False\n",
              "house56     False\n",
              "house57     False\n",
              "house58     False\n",
              "house59     False\n",
              "house60      True\n",
              "house61     False\n",
              "dtype: bool"
            ]
          },
          "metadata": {},
          "execution_count": 4
        }
      ]
    },
    {
      "cell_type": "markdown",
      "source": [
        "\n",
        "\n",
        "> จากการรันพบว่าปี **2560 เป็นปีเดียวที่ไม่มีการเก็บข้อมูล** เมื่อเรานำข้อมูลไปนำเสนอเป็นกราฟอาจทำให้เข้าใจผิดว่า ปี 2560 มีประชากร  0 คน ถึงเเม้ว่าการ drop olumn จะเป็นทางเลือกสุดท้าย เเต่กลุ่มเราพิจารณาว่าจะไม่นำข้อมูลในปี 2560 มาวิเคราะห์ต่อ\n",
        "\n",
        "\n",
        "\n",
        "\n",
        "\n",
        "\n",
        "\n"
      ],
      "metadata": {
        "id": "9TSNJujn9Jez"
      }
    },
    {
      "cell_type": "code",
      "source": [
        "data2560=popperarea.filter(regex= \"60\") # ทุก column ของปี 2560\n",
        "#data2560\n",
        "popperarea.drop(data2560, inplace=True, axis=1) #drop ทุก column ของปี 2560\n",
        "popperarea.info()"
      ],
      "metadata": {
        "colab": {
          "base_uri": "https://localhost:8080/"
        },
        "id": "xTBoyMjMAuFD",
        "outputId": "d98ba9b2-5c7f-4430-bdb6-134cca0d91c3"
      },
      "execution_count": null,
      "outputs": [
        {
          "output_type": "stream",
          "name": "stdout",
          "text": [
            "<class 'pandas.core.frame.DataFrame'>\n",
            "RangeIndex: 169 entries, 0 to 168\n",
            "Data columns (total 30 columns):\n",
            " #   Column    Non-Null Count  Dtype  \n",
            "---  ------    --------------  -----  \n",
            " 0   scode     169 non-null    int64  \n",
            " 1   dcode     169 non-null    int64  \n",
            " 2   male54    169 non-null    int64  \n",
            " 3   female54  169 non-null    int64  \n",
            " 4   male55    169 non-null    int64  \n",
            " 5   female55  169 non-null    int64  \n",
            " 6   male56    169 non-null    int64  \n",
            " 7   female56  169 non-null    int64  \n",
            " 8   male57    169 non-null    int64  \n",
            " 9   female57  169 non-null    int64  \n",
            " 10  male58    169 non-null    int64  \n",
            " 11  female58  169 non-null    int64  \n",
            " 12  male59    169 non-null    int64  \n",
            " 13  female59  169 non-null    int64  \n",
            " 14  male61    169 non-null    int64  \n",
            " 15  female61  169 non-null    int64  \n",
            " 16  area54    169 non-null    float64\n",
            " 17  area55    169 non-null    float64\n",
            " 18  area56    169 non-null    float64\n",
            " 19  area57    169 non-null    float64\n",
            " 20  area58    169 non-null    float64\n",
            " 21  area59    169 non-null    float64\n",
            " 22  area61    169 non-null    float64\n",
            " 23  house54   169 non-null    int64  \n",
            " 24  house55   169 non-null    int64  \n",
            " 25  house56   169 non-null    int64  \n",
            " 26  house57   169 non-null    int64  \n",
            " 27  house58   169 non-null    int64  \n",
            " 28  house59   169 non-null    int64  \n",
            " 29  house61   169 non-null    int64  \n",
            "dtypes: float64(7), int64(23)\n",
            "memory usage: 39.7 KB\n"
          ]
        }
      ]
    },
    {
      "cell_type": "markdown",
      "source": [
        "\n",
        "\n",
        "---\n",
        "\n",
        "\n",
        "- เซ็ตให้ scode(รหัสแขวงการปกครองกรุงเทพมหานคร) เป็น index"
      ],
      "metadata": {
        "id": "nwjEX1T4IU4r"
      }
    },
    {
      "cell_type": "code",
      "source": [
        "popperarea.index"
      ],
      "metadata": {
        "colab": {
          "base_uri": "https://localhost:8080/"
        },
        "id": "5uYRKXseNyJB",
        "outputId": "9256f9a1-dd2e-4952-cddf-2d98dbca7d28"
      },
      "execution_count": null,
      "outputs": [
        {
          "output_type": "execute_result",
          "data": {
            "text/plain": [
              "RangeIndex(start=0, stop=169, step=1)"
            ]
          },
          "metadata": {},
          "execution_count": 6
        }
      ]
    },
    {
      "cell_type": "code",
      "source": [
        "popperarea['scode'] = popperarea['scode'].apply(str) #เปลี่ยน scode ให้เป็น object"
      ],
      "metadata": {
        "id": "ZCoJXz6JUNYo"
      },
      "execution_count": null,
      "outputs": []
    },
    {
      "cell_type": "code",
      "source": [
        "popperarea.set_index('scode',inplace = True) #เซ็ต index ตัวใหม่"
      ],
      "metadata": {
        "id": "TclhH32b4rHt"
      },
      "execution_count": null,
      "outputs": []
    },
    {
      "cell_type": "code",
      "source": [
        "popperarea.index # เช็ค index"
      ],
      "metadata": {
        "colab": {
          "base_uri": "https://localhost:8080/"
        },
        "id": "xL2QqVo0NvHb",
        "outputId": "b70f9a64-0b3f-46d4-eae8-5322674c2f3e"
      },
      "execution_count": null,
      "outputs": [
        {
          "output_type": "execute_result",
          "data": {
            "text/plain": [
              "Index(['105001', '104901', '104902', '104802', '104801', '104701', '104602',\n",
              "       '104601', '104603', '104605',\n",
              "       ...\n",
              "       '100105', '100112', '100103', '100102', '100101', '100110', '100111',\n",
              "       '100107', '100108', '100109'],\n",
              "      dtype='object', name='scode', length=169)"
            ]
          },
          "metadata": {},
          "execution_count": 9
        }
      ]
    },
    {
      "cell_type": "code",
      "source": [
        "popperarea.index.nunique()  #เช็คคุณภาพ index"
      ],
      "metadata": {
        "colab": {
          "base_uri": "https://localhost:8080/"
        },
        "id": "t_S6MOHA5IVG",
        "outputId": "2f3f2105-7bd4-42b3-bfff-d0a20298884b"
      },
      "execution_count": null,
      "outputs": [
        {
          "output_type": "execute_result",
          "data": {
            "text/plain": [
              "169"
            ]
          },
          "metadata": {},
          "execution_count": 10
        }
      ]
    },
    {
      "cell_type": "markdown",
      "source": [
        "\n",
        "\n",
        "> colum **scode** ที่ถูกเปลี่ยนเป็น index ตัวใหม่  มีคุณภาพ เพราะไม่มี index ซ้ำกัน\n",
        "\n",
        "\n",
        "\n",
        "\n",
        "---\n",
        "\n",
        "\n",
        "\n",
        "\n"
      ],
      "metadata": {
        "id": "5mtqMOAZ5xxE"
      }
    },
    {
      "cell_type": "markdown",
      "source": [
        "\n",
        "\n",
        "---\n",
        "\n",
        "\n",
        "# Data categorization\n",
        "ขั้นตอนการเเบ่ง popperarea เป็น dataframe ย่อย เพื่อจัดหมวดหมู่\n",
        "\n",
        "\n",
        "\n",
        "\n",
        "---\n",
        "\n",
        "\n",
        "\n",
        "\n"
      ],
      "metadata": {
        "id": "tB3qaBdhtcpP"
      }
    },
    {
      "cell_type": "markdown",
      "source": [
        "- สร้าง Data Frame ของ house ตั้งเเต่ปี 2543 ถึง ปี 2561"
      ],
      "metadata": {
        "id": "e8l9LT6OGh6c"
      }
    },
    {
      "cell_type": "code",
      "source": [
        "analysisPopOfHouse = popperarea.filter(like=\"house\") #regex=\"house\"\n",
        "house =  ['house54',\t'house55',\t'house56',\t'house57',\t'house58',\t'house59',\t'house61']\n",
        "# analysisPopOfHouse.info()\n",
        "analysisPopOfHouse\n"
      ],
      "metadata": {
        "colab": {
          "base_uri": "https://localhost:8080/"
        },
        "outputId": "969d55c8-6b39-4b91-b334-1faeeab6226a",
        "id": "kB6hpwXTGKqA"
      },
      "execution_count": null,
      "outputs": [
        {
          "output_type": "execute_result",
          "data": {
            "text/plain": [
              "        house54  house55  house56  house57  house58  house59  house61\n",
              "scode                                                                \n",
              "105001    45758    47110    47459    48301    48875    49489    49489\n",
              "104901    23674    24609    24204    24644    25473    25899    25899\n",
              "104902    22538    23404    22926    23180    23407    24385    24385\n",
              "104802    22430    22692    22938    23260    23438    23916    23916\n",
              "104801     7610     7765     7895     8077     8165     8413     8413\n",
              "...         ...      ...      ...      ...      ...      ...      ...\n",
              "100110     2025     2028     2030     2032     2032     2032     2032\n",
              "100111     2101     2103     2104     2105     2105     2106     2106\n",
              "100107     1640     1634     1637     1631     1634     1635     1635\n",
              "100108     1225     1225     1225     1210     1211     1212     1212\n",
              "100109      822      825      825      826      825      826      826\n",
              "\n",
              "[169 rows x 7 columns]"
            ],
            "text/html": [
              "\n",
              "  <div id=\"df-4d767ec6-78ed-4168-ab28-de9633a0611d\">\n",
              "    <div class=\"colab-df-container\">\n",
              "      <div>\n",
              "<style scoped>\n",
              "    .dataframe tbody tr th:only-of-type {\n",
              "        vertical-align: middle;\n",
              "    }\n",
              "\n",
              "    .dataframe tbody tr th {\n",
              "        vertical-align: top;\n",
              "    }\n",
              "\n",
              "    .dataframe thead th {\n",
              "        text-align: right;\n",
              "    }\n",
              "</style>\n",
              "<table border=\"1\" class=\"dataframe\">\n",
              "  <thead>\n",
              "    <tr style=\"text-align: right;\">\n",
              "      <th></th>\n",
              "      <th>house54</th>\n",
              "      <th>house55</th>\n",
              "      <th>house56</th>\n",
              "      <th>house57</th>\n",
              "      <th>house58</th>\n",
              "      <th>house59</th>\n",
              "      <th>house61</th>\n",
              "    </tr>\n",
              "    <tr>\n",
              "      <th>scode</th>\n",
              "      <th></th>\n",
              "      <th></th>\n",
              "      <th></th>\n",
              "      <th></th>\n",
              "      <th></th>\n",
              "      <th></th>\n",
              "      <th></th>\n",
              "    </tr>\n",
              "  </thead>\n",
              "  <tbody>\n",
              "    <tr>\n",
              "      <th>105001</th>\n",
              "      <td>45758</td>\n",
              "      <td>47110</td>\n",
              "      <td>47459</td>\n",
              "      <td>48301</td>\n",
              "      <td>48875</td>\n",
              "      <td>49489</td>\n",
              "      <td>49489</td>\n",
              "    </tr>\n",
              "    <tr>\n",
              "      <th>104901</th>\n",
              "      <td>23674</td>\n",
              "      <td>24609</td>\n",
              "      <td>24204</td>\n",
              "      <td>24644</td>\n",
              "      <td>25473</td>\n",
              "      <td>25899</td>\n",
              "      <td>25899</td>\n",
              "    </tr>\n",
              "    <tr>\n",
              "      <th>104902</th>\n",
              "      <td>22538</td>\n",
              "      <td>23404</td>\n",
              "      <td>22926</td>\n",
              "      <td>23180</td>\n",
              "      <td>23407</td>\n",
              "      <td>24385</td>\n",
              "      <td>24385</td>\n",
              "    </tr>\n",
              "    <tr>\n",
              "      <th>104802</th>\n",
              "      <td>22430</td>\n",
              "      <td>22692</td>\n",
              "      <td>22938</td>\n",
              "      <td>23260</td>\n",
              "      <td>23438</td>\n",
              "      <td>23916</td>\n",
              "      <td>23916</td>\n",
              "    </tr>\n",
              "    <tr>\n",
              "      <th>104801</th>\n",
              "      <td>7610</td>\n",
              "      <td>7765</td>\n",
              "      <td>7895</td>\n",
              "      <td>8077</td>\n",
              "      <td>8165</td>\n",
              "      <td>8413</td>\n",
              "      <td>8413</td>\n",
              "    </tr>\n",
              "    <tr>\n",
              "      <th>...</th>\n",
              "      <td>...</td>\n",
              "      <td>...</td>\n",
              "      <td>...</td>\n",
              "      <td>...</td>\n",
              "      <td>...</td>\n",
              "      <td>...</td>\n",
              "      <td>...</td>\n",
              "    </tr>\n",
              "    <tr>\n",
              "      <th>100110</th>\n",
              "      <td>2025</td>\n",
              "      <td>2028</td>\n",
              "      <td>2030</td>\n",
              "      <td>2032</td>\n",
              "      <td>2032</td>\n",
              "      <td>2032</td>\n",
              "      <td>2032</td>\n",
              "    </tr>\n",
              "    <tr>\n",
              "      <th>100111</th>\n",
              "      <td>2101</td>\n",
              "      <td>2103</td>\n",
              "      <td>2104</td>\n",
              "      <td>2105</td>\n",
              "      <td>2105</td>\n",
              "      <td>2106</td>\n",
              "      <td>2106</td>\n",
              "    </tr>\n",
              "    <tr>\n",
              "      <th>100107</th>\n",
              "      <td>1640</td>\n",
              "      <td>1634</td>\n",
              "      <td>1637</td>\n",
              "      <td>1631</td>\n",
              "      <td>1634</td>\n",
              "      <td>1635</td>\n",
              "      <td>1635</td>\n",
              "    </tr>\n",
              "    <tr>\n",
              "      <th>100108</th>\n",
              "      <td>1225</td>\n",
              "      <td>1225</td>\n",
              "      <td>1225</td>\n",
              "      <td>1210</td>\n",
              "      <td>1211</td>\n",
              "      <td>1212</td>\n",
              "      <td>1212</td>\n",
              "    </tr>\n",
              "    <tr>\n",
              "      <th>100109</th>\n",
              "      <td>822</td>\n",
              "      <td>825</td>\n",
              "      <td>825</td>\n",
              "      <td>826</td>\n",
              "      <td>825</td>\n",
              "      <td>826</td>\n",
              "      <td>826</td>\n",
              "    </tr>\n",
              "  </tbody>\n",
              "</table>\n",
              "<p>169 rows × 7 columns</p>\n",
              "</div>\n",
              "      <button class=\"colab-df-convert\" onclick=\"convertToInteractive('df-4d767ec6-78ed-4168-ab28-de9633a0611d')\"\n",
              "              title=\"Convert this dataframe to an interactive table.\"\n",
              "              style=\"display:none;\">\n",
              "        \n",
              "  <svg xmlns=\"http://www.w3.org/2000/svg\" height=\"24px\"viewBox=\"0 0 24 24\"\n",
              "       width=\"24px\">\n",
              "    <path d=\"M0 0h24v24H0V0z\" fill=\"none\"/>\n",
              "    <path d=\"M18.56 5.44l.94 2.06.94-2.06 2.06-.94-2.06-.94-.94-2.06-.94 2.06-2.06.94zm-11 1L8.5 8.5l.94-2.06 2.06-.94-2.06-.94L8.5 2.5l-.94 2.06-2.06.94zm10 10l.94 2.06.94-2.06 2.06-.94-2.06-.94-.94-2.06-.94 2.06-2.06.94z\"/><path d=\"M17.41 7.96l-1.37-1.37c-.4-.4-.92-.59-1.43-.59-.52 0-1.04.2-1.43.59L10.3 9.45l-7.72 7.72c-.78.78-.78 2.05 0 2.83L4 21.41c.39.39.9.59 1.41.59.51 0 1.02-.2 1.41-.59l7.78-7.78 2.81-2.81c.8-.78.8-2.07 0-2.86zM5.41 20L4 18.59l7.72-7.72 1.47 1.35L5.41 20z\"/>\n",
              "  </svg>\n",
              "      </button>\n",
              "      \n",
              "  <style>\n",
              "    .colab-df-container {\n",
              "      display:flex;\n",
              "      flex-wrap:wrap;\n",
              "      gap: 12px;\n",
              "    }\n",
              "\n",
              "    .colab-df-convert {\n",
              "      background-color: #E8F0FE;\n",
              "      border: none;\n",
              "      border-radius: 50%;\n",
              "      cursor: pointer;\n",
              "      display: none;\n",
              "      fill: #1967D2;\n",
              "      height: 32px;\n",
              "      padding: 0 0 0 0;\n",
              "      width: 32px;\n",
              "    }\n",
              "\n",
              "    .colab-df-convert:hover {\n",
              "      background-color: #E2EBFA;\n",
              "      box-shadow: 0px 1px 2px rgba(60, 64, 67, 0.3), 0px 1px 3px 1px rgba(60, 64, 67, 0.15);\n",
              "      fill: #174EA6;\n",
              "    }\n",
              "\n",
              "    [theme=dark] .colab-df-convert {\n",
              "      background-color: #3B4455;\n",
              "      fill: #D2E3FC;\n",
              "    }\n",
              "\n",
              "    [theme=dark] .colab-df-convert:hover {\n",
              "      background-color: #434B5C;\n",
              "      box-shadow: 0px 1px 3px 1px rgba(0, 0, 0, 0.15);\n",
              "      filter: drop-shadow(0px 1px 2px rgba(0, 0, 0, 0.3));\n",
              "      fill: #FFFFFF;\n",
              "    }\n",
              "  </style>\n",
              "\n",
              "      <script>\n",
              "        const buttonEl =\n",
              "          document.querySelector('#df-4d767ec6-78ed-4168-ab28-de9633a0611d button.colab-df-convert');\n",
              "        buttonEl.style.display =\n",
              "          google.colab.kernel.accessAllowed ? 'block' : 'none';\n",
              "\n",
              "        async function convertToInteractive(key) {\n",
              "          const element = document.querySelector('#df-4d767ec6-78ed-4168-ab28-de9633a0611d');\n",
              "          const dataTable =\n",
              "            await google.colab.kernel.invokeFunction('convertToInteractive',\n",
              "                                                     [key], {});\n",
              "          if (!dataTable) return;\n",
              "\n",
              "          const docLinkHtml = 'Like what you see? Visit the ' +\n",
              "            '<a target=\"_blank\" href=https://colab.research.google.com/notebooks/data_table.ipynb>data table notebook</a>'\n",
              "            + ' to learn more about interactive tables.';\n",
              "          element.innerHTML = '';\n",
              "          dataTable['output_type'] = 'display_data';\n",
              "          await google.colab.output.renderOutput(dataTable, element);\n",
              "          const docLink = document.createElement('div');\n",
              "          docLink.innerHTML = docLinkHtml;\n",
              "          element.appendChild(docLink);\n",
              "        }\n",
              "      </script>\n",
              "    </div>\n",
              "  </div>\n",
              "  "
            ]
          },
          "metadata": {},
          "execution_count": 11
        }
      ]
    },
    {
      "cell_type": "markdown",
      "source": [
        "\n",
        "\n",
        "---\n",
        "\n",
        "\n",
        "- สร้าง Data Frame ของ area ตั้งเเต่ปี 2543 ถึง ปี 2561"
      ],
      "metadata": {
        "id": "34OGSzMzKq2v"
      }
    },
    {
      "cell_type": "code",
      "source": [
        "analysisPopOfArea = popperarea.filter(like=\"area\") #regex=\"house\"\n",
        "area = ['area54',\t'area55',\t'area56',\t'area57',\t'area58',\t'area59',\t'area61']\n",
        "# analysisPopOfArea.info()\n",
        "analysisPopOfArea\n"
      ],
      "metadata": {
        "colab": {
          "base_uri": "https://localhost:8080/"
        },
        "outputId": "29bf2aba-f96f-4b3a-bf90-905102d80ae5",
        "id": "h1N-uCdTHf_1"
      },
      "execution_count": null,
      "outputs": [
        {
          "output_type": "execute_result",
          "data": {
            "text/plain": [
              "        area54  area55  area56  area57  area58  area59  area61\n",
              "scode                                                         \n",
              "105001  34.745  34.745  34.745  34.745  34.745  34.745  34.745\n",
              "104901  12.765  12.765  12.765  12.765  12.765  12.765  12.765\n",
              "104902  17.976  17.976  17.976  17.976  17.976  17.976  17.976\n",
              "104802  28.698  28.698  28.698  28.698  28.698  28.698  28.698\n",
              "104801  21.521  21.521  21.521  21.521  21.521  21.521  21.521\n",
              "...        ...     ...     ...     ...     ...     ...     ...\n",
              "100110   0.414   0.414   0.414   0.414   0.414   0.414   0.414\n",
              "100111   0.458   0.458   0.458   0.458   0.458   0.458   0.458\n",
              "100107   0.496   0.496   0.496   0.496   0.496   0.496   0.496\n",
              "100108   0.193   0.193   0.193   0.193   0.193   0.193   0.193\n",
              "100109   0.339   0.339   0.339   0.339   0.339   0.339   0.339\n",
              "\n",
              "[169 rows x 7 columns]"
            ],
            "text/html": [
              "\n",
              "  <div id=\"df-f4d2c526-5b56-4588-8675-64d4183cb47b\">\n",
              "    <div class=\"colab-df-container\">\n",
              "      <div>\n",
              "<style scoped>\n",
              "    .dataframe tbody tr th:only-of-type {\n",
              "        vertical-align: middle;\n",
              "    }\n",
              "\n",
              "    .dataframe tbody tr th {\n",
              "        vertical-align: top;\n",
              "    }\n",
              "\n",
              "    .dataframe thead th {\n",
              "        text-align: right;\n",
              "    }\n",
              "</style>\n",
              "<table border=\"1\" class=\"dataframe\">\n",
              "  <thead>\n",
              "    <tr style=\"text-align: right;\">\n",
              "      <th></th>\n",
              "      <th>area54</th>\n",
              "      <th>area55</th>\n",
              "      <th>area56</th>\n",
              "      <th>area57</th>\n",
              "      <th>area58</th>\n",
              "      <th>area59</th>\n",
              "      <th>area61</th>\n",
              "    </tr>\n",
              "    <tr>\n",
              "      <th>scode</th>\n",
              "      <th></th>\n",
              "      <th></th>\n",
              "      <th></th>\n",
              "      <th></th>\n",
              "      <th></th>\n",
              "      <th></th>\n",
              "      <th></th>\n",
              "    </tr>\n",
              "  </thead>\n",
              "  <tbody>\n",
              "    <tr>\n",
              "      <th>105001</th>\n",
              "      <td>34.745</td>\n",
              "      <td>34.745</td>\n",
              "      <td>34.745</td>\n",
              "      <td>34.745</td>\n",
              "      <td>34.745</td>\n",
              "      <td>34.745</td>\n",
              "      <td>34.745</td>\n",
              "    </tr>\n",
              "    <tr>\n",
              "      <th>104901</th>\n",
              "      <td>12.765</td>\n",
              "      <td>12.765</td>\n",
              "      <td>12.765</td>\n",
              "      <td>12.765</td>\n",
              "      <td>12.765</td>\n",
              "      <td>12.765</td>\n",
              "      <td>12.765</td>\n",
              "    </tr>\n",
              "    <tr>\n",
              "      <th>104902</th>\n",
              "      <td>17.976</td>\n",
              "      <td>17.976</td>\n",
              "      <td>17.976</td>\n",
              "      <td>17.976</td>\n",
              "      <td>17.976</td>\n",
              "      <td>17.976</td>\n",
              "      <td>17.976</td>\n",
              "    </tr>\n",
              "    <tr>\n",
              "      <th>104802</th>\n",
              "      <td>28.698</td>\n",
              "      <td>28.698</td>\n",
              "      <td>28.698</td>\n",
              "      <td>28.698</td>\n",
              "      <td>28.698</td>\n",
              "      <td>28.698</td>\n",
              "      <td>28.698</td>\n",
              "    </tr>\n",
              "    <tr>\n",
              "      <th>104801</th>\n",
              "      <td>21.521</td>\n",
              "      <td>21.521</td>\n",
              "      <td>21.521</td>\n",
              "      <td>21.521</td>\n",
              "      <td>21.521</td>\n",
              "      <td>21.521</td>\n",
              "      <td>21.521</td>\n",
              "    </tr>\n",
              "    <tr>\n",
              "      <th>...</th>\n",
              "      <td>...</td>\n",
              "      <td>...</td>\n",
              "      <td>...</td>\n",
              "      <td>...</td>\n",
              "      <td>...</td>\n",
              "      <td>...</td>\n",
              "      <td>...</td>\n",
              "    </tr>\n",
              "    <tr>\n",
              "      <th>100110</th>\n",
              "      <td>0.414</td>\n",
              "      <td>0.414</td>\n",
              "      <td>0.414</td>\n",
              "      <td>0.414</td>\n",
              "      <td>0.414</td>\n",
              "      <td>0.414</td>\n",
              "      <td>0.414</td>\n",
              "    </tr>\n",
              "    <tr>\n",
              "      <th>100111</th>\n",
              "      <td>0.458</td>\n",
              "      <td>0.458</td>\n",
              "      <td>0.458</td>\n",
              "      <td>0.458</td>\n",
              "      <td>0.458</td>\n",
              "      <td>0.458</td>\n",
              "      <td>0.458</td>\n",
              "    </tr>\n",
              "    <tr>\n",
              "      <th>100107</th>\n",
              "      <td>0.496</td>\n",
              "      <td>0.496</td>\n",
              "      <td>0.496</td>\n",
              "      <td>0.496</td>\n",
              "      <td>0.496</td>\n",
              "      <td>0.496</td>\n",
              "      <td>0.496</td>\n",
              "    </tr>\n",
              "    <tr>\n",
              "      <th>100108</th>\n",
              "      <td>0.193</td>\n",
              "      <td>0.193</td>\n",
              "      <td>0.193</td>\n",
              "      <td>0.193</td>\n",
              "      <td>0.193</td>\n",
              "      <td>0.193</td>\n",
              "      <td>0.193</td>\n",
              "    </tr>\n",
              "    <tr>\n",
              "      <th>100109</th>\n",
              "      <td>0.339</td>\n",
              "      <td>0.339</td>\n",
              "      <td>0.339</td>\n",
              "      <td>0.339</td>\n",
              "      <td>0.339</td>\n",
              "      <td>0.339</td>\n",
              "      <td>0.339</td>\n",
              "    </tr>\n",
              "  </tbody>\n",
              "</table>\n",
              "<p>169 rows × 7 columns</p>\n",
              "</div>\n",
              "      <button class=\"colab-df-convert\" onclick=\"convertToInteractive('df-f4d2c526-5b56-4588-8675-64d4183cb47b')\"\n",
              "              title=\"Convert this dataframe to an interactive table.\"\n",
              "              style=\"display:none;\">\n",
              "        \n",
              "  <svg xmlns=\"http://www.w3.org/2000/svg\" height=\"24px\"viewBox=\"0 0 24 24\"\n",
              "       width=\"24px\">\n",
              "    <path d=\"M0 0h24v24H0V0z\" fill=\"none\"/>\n",
              "    <path d=\"M18.56 5.44l.94 2.06.94-2.06 2.06-.94-2.06-.94-.94-2.06-.94 2.06-2.06.94zm-11 1L8.5 8.5l.94-2.06 2.06-.94-2.06-.94L8.5 2.5l-.94 2.06-2.06.94zm10 10l.94 2.06.94-2.06 2.06-.94-2.06-.94-.94-2.06-.94 2.06-2.06.94z\"/><path d=\"M17.41 7.96l-1.37-1.37c-.4-.4-.92-.59-1.43-.59-.52 0-1.04.2-1.43.59L10.3 9.45l-7.72 7.72c-.78.78-.78 2.05 0 2.83L4 21.41c.39.39.9.59 1.41.59.51 0 1.02-.2 1.41-.59l7.78-7.78 2.81-2.81c.8-.78.8-2.07 0-2.86zM5.41 20L4 18.59l7.72-7.72 1.47 1.35L5.41 20z\"/>\n",
              "  </svg>\n",
              "      </button>\n",
              "      \n",
              "  <style>\n",
              "    .colab-df-container {\n",
              "      display:flex;\n",
              "      flex-wrap:wrap;\n",
              "      gap: 12px;\n",
              "    }\n",
              "\n",
              "    .colab-df-convert {\n",
              "      background-color: #E8F0FE;\n",
              "      border: none;\n",
              "      border-radius: 50%;\n",
              "      cursor: pointer;\n",
              "      display: none;\n",
              "      fill: #1967D2;\n",
              "      height: 32px;\n",
              "      padding: 0 0 0 0;\n",
              "      width: 32px;\n",
              "    }\n",
              "\n",
              "    .colab-df-convert:hover {\n",
              "      background-color: #E2EBFA;\n",
              "      box-shadow: 0px 1px 2px rgba(60, 64, 67, 0.3), 0px 1px 3px 1px rgba(60, 64, 67, 0.15);\n",
              "      fill: #174EA6;\n",
              "    }\n",
              "\n",
              "    [theme=dark] .colab-df-convert {\n",
              "      background-color: #3B4455;\n",
              "      fill: #D2E3FC;\n",
              "    }\n",
              "\n",
              "    [theme=dark] .colab-df-convert:hover {\n",
              "      background-color: #434B5C;\n",
              "      box-shadow: 0px 1px 3px 1px rgba(0, 0, 0, 0.15);\n",
              "      filter: drop-shadow(0px 1px 2px rgba(0, 0, 0, 0.3));\n",
              "      fill: #FFFFFF;\n",
              "    }\n",
              "  </style>\n",
              "\n",
              "      <script>\n",
              "        const buttonEl =\n",
              "          document.querySelector('#df-f4d2c526-5b56-4588-8675-64d4183cb47b button.colab-df-convert');\n",
              "        buttonEl.style.display =\n",
              "          google.colab.kernel.accessAllowed ? 'block' : 'none';\n",
              "\n",
              "        async function convertToInteractive(key) {\n",
              "          const element = document.querySelector('#df-f4d2c526-5b56-4588-8675-64d4183cb47b');\n",
              "          const dataTable =\n",
              "            await google.colab.kernel.invokeFunction('convertToInteractive',\n",
              "                                                     [key], {});\n",
              "          if (!dataTable) return;\n",
              "\n",
              "          const docLinkHtml = 'Like what you see? Visit the ' +\n",
              "            '<a target=\"_blank\" href=https://colab.research.google.com/notebooks/data_table.ipynb>data table notebook</a>'\n",
              "            + ' to learn more about interactive tables.';\n",
              "          element.innerHTML = '';\n",
              "          dataTable['output_type'] = 'display_data';\n",
              "          await google.colab.output.renderOutput(dataTable, element);\n",
              "          const docLink = document.createElement('div');\n",
              "          docLink.innerHTML = docLinkHtml;\n",
              "          element.appendChild(docLink);\n",
              "        }\n",
              "      </script>\n",
              "    </div>\n",
              "  </div>\n",
              "  "
            ]
          },
          "metadata": {},
          "execution_count": 12
        }
      ]
    },
    {
      "cell_type": "markdown",
      "source": [
        "\n",
        "\n",
        "---\n",
        "\n",
        "\n",
        "- สร้าง Data Frame ของ female ตั้งเเต่ปี 2543 ถึง ปี 2561"
      ],
      "metadata": {
        "id": "p8wSUO3oKefn"
      }
    },
    {
      "cell_type": "code",
      "source": [
        "analysisPopOfFemale = popperarea.filter(like=\"female\") #regex=\"female\"\n",
        "female = ['female54',\t'female55',\t'female56',\t'female57',\t'female58',\t'female59',\t'female61']\n",
        "# analysisPopOfFemale.info()\n",
        "# analysisPopOfFemale.describe()\n",
        "analysisPopOfFemale"
      ],
      "metadata": {
        "colab": {
          "base_uri": "https://localhost:8080/"
        },
        "outputId": "333438b0-5d91-4b46-9c8e-0fc90a91390e",
        "id": "hG_GyEv-Kefn"
      },
      "execution_count": null,
      "outputs": [
        {
          "output_type": "execute_result",
          "data": {
            "text/plain": [
              "        female54  female55  female56  female57  female58  female59  female61\n",
              "scode                                                                       \n",
              "105001     54392     54683     55255     55831     55966     55896     55896\n",
              "104901     27586     27869     28254     28597     28878     29018     29018\n",
              "104902     33663     33745     33951     34568     34806     35017     35017\n",
              "104802     28688     29056     29246     29344     29491     29647     29647\n",
              "104801     11576     11731     11786     11804     11853     11910     11910\n",
              "...          ...       ...       ...       ...       ...       ...       ...\n",
              "100110      4432      4396      4275      4171      4028      3935      3935\n",
              "100111      2680      2586      2548      2515      2445      2343      2343\n",
              "100107      3413      3346      3240      3093      2999      2860      2860\n",
              "100108      1662      1634      1576      1519      1477      1407      1407\n",
              "100109      1163      1127      1113      1101      1089      1054      1054\n",
              "\n",
              "[169 rows x 7 columns]"
            ],
            "text/html": [
              "\n",
              "  <div id=\"df-9c6b04d1-74be-4435-aa25-f46f061b1c66\">\n",
              "    <div class=\"colab-df-container\">\n",
              "      <div>\n",
              "<style scoped>\n",
              "    .dataframe tbody tr th:only-of-type {\n",
              "        vertical-align: middle;\n",
              "    }\n",
              "\n",
              "    .dataframe tbody tr th {\n",
              "        vertical-align: top;\n",
              "    }\n",
              "\n",
              "    .dataframe thead th {\n",
              "        text-align: right;\n",
              "    }\n",
              "</style>\n",
              "<table border=\"1\" class=\"dataframe\">\n",
              "  <thead>\n",
              "    <tr style=\"text-align: right;\">\n",
              "      <th></th>\n",
              "      <th>female54</th>\n",
              "      <th>female55</th>\n",
              "      <th>female56</th>\n",
              "      <th>female57</th>\n",
              "      <th>female58</th>\n",
              "      <th>female59</th>\n",
              "      <th>female61</th>\n",
              "    </tr>\n",
              "    <tr>\n",
              "      <th>scode</th>\n",
              "      <th></th>\n",
              "      <th></th>\n",
              "      <th></th>\n",
              "      <th></th>\n",
              "      <th></th>\n",
              "      <th></th>\n",
              "      <th></th>\n",
              "    </tr>\n",
              "  </thead>\n",
              "  <tbody>\n",
              "    <tr>\n",
              "      <th>105001</th>\n",
              "      <td>54392</td>\n",
              "      <td>54683</td>\n",
              "      <td>55255</td>\n",
              "      <td>55831</td>\n",
              "      <td>55966</td>\n",
              "      <td>55896</td>\n",
              "      <td>55896</td>\n",
              "    </tr>\n",
              "    <tr>\n",
              "      <th>104901</th>\n",
              "      <td>27586</td>\n",
              "      <td>27869</td>\n",
              "      <td>28254</td>\n",
              "      <td>28597</td>\n",
              "      <td>28878</td>\n",
              "      <td>29018</td>\n",
              "      <td>29018</td>\n",
              "    </tr>\n",
              "    <tr>\n",
              "      <th>104902</th>\n",
              "      <td>33663</td>\n",
              "      <td>33745</td>\n",
              "      <td>33951</td>\n",
              "      <td>34568</td>\n",
              "      <td>34806</td>\n",
              "      <td>35017</td>\n",
              "      <td>35017</td>\n",
              "    </tr>\n",
              "    <tr>\n",
              "      <th>104802</th>\n",
              "      <td>28688</td>\n",
              "      <td>29056</td>\n",
              "      <td>29246</td>\n",
              "      <td>29344</td>\n",
              "      <td>29491</td>\n",
              "      <td>29647</td>\n",
              "      <td>29647</td>\n",
              "    </tr>\n",
              "    <tr>\n",
              "      <th>104801</th>\n",
              "      <td>11576</td>\n",
              "      <td>11731</td>\n",
              "      <td>11786</td>\n",
              "      <td>11804</td>\n",
              "      <td>11853</td>\n",
              "      <td>11910</td>\n",
              "      <td>11910</td>\n",
              "    </tr>\n",
              "    <tr>\n",
              "      <th>...</th>\n",
              "      <td>...</td>\n",
              "      <td>...</td>\n",
              "      <td>...</td>\n",
              "      <td>...</td>\n",
              "      <td>...</td>\n",
              "      <td>...</td>\n",
              "      <td>...</td>\n",
              "    </tr>\n",
              "    <tr>\n",
              "      <th>100110</th>\n",
              "      <td>4432</td>\n",
              "      <td>4396</td>\n",
              "      <td>4275</td>\n",
              "      <td>4171</td>\n",
              "      <td>4028</td>\n",
              "      <td>3935</td>\n",
              "      <td>3935</td>\n",
              "    </tr>\n",
              "    <tr>\n",
              "      <th>100111</th>\n",
              "      <td>2680</td>\n",
              "      <td>2586</td>\n",
              "      <td>2548</td>\n",
              "      <td>2515</td>\n",
              "      <td>2445</td>\n",
              "      <td>2343</td>\n",
              "      <td>2343</td>\n",
              "    </tr>\n",
              "    <tr>\n",
              "      <th>100107</th>\n",
              "      <td>3413</td>\n",
              "      <td>3346</td>\n",
              "      <td>3240</td>\n",
              "      <td>3093</td>\n",
              "      <td>2999</td>\n",
              "      <td>2860</td>\n",
              "      <td>2860</td>\n",
              "    </tr>\n",
              "    <tr>\n",
              "      <th>100108</th>\n",
              "      <td>1662</td>\n",
              "      <td>1634</td>\n",
              "      <td>1576</td>\n",
              "      <td>1519</td>\n",
              "      <td>1477</td>\n",
              "      <td>1407</td>\n",
              "      <td>1407</td>\n",
              "    </tr>\n",
              "    <tr>\n",
              "      <th>100109</th>\n",
              "      <td>1163</td>\n",
              "      <td>1127</td>\n",
              "      <td>1113</td>\n",
              "      <td>1101</td>\n",
              "      <td>1089</td>\n",
              "      <td>1054</td>\n",
              "      <td>1054</td>\n",
              "    </tr>\n",
              "  </tbody>\n",
              "</table>\n",
              "<p>169 rows × 7 columns</p>\n",
              "</div>\n",
              "      <button class=\"colab-df-convert\" onclick=\"convertToInteractive('df-9c6b04d1-74be-4435-aa25-f46f061b1c66')\"\n",
              "              title=\"Convert this dataframe to an interactive table.\"\n",
              "              style=\"display:none;\">\n",
              "        \n",
              "  <svg xmlns=\"http://www.w3.org/2000/svg\" height=\"24px\"viewBox=\"0 0 24 24\"\n",
              "       width=\"24px\">\n",
              "    <path d=\"M0 0h24v24H0V0z\" fill=\"none\"/>\n",
              "    <path d=\"M18.56 5.44l.94 2.06.94-2.06 2.06-.94-2.06-.94-.94-2.06-.94 2.06-2.06.94zm-11 1L8.5 8.5l.94-2.06 2.06-.94-2.06-.94L8.5 2.5l-.94 2.06-2.06.94zm10 10l.94 2.06.94-2.06 2.06-.94-2.06-.94-.94-2.06-.94 2.06-2.06.94z\"/><path d=\"M17.41 7.96l-1.37-1.37c-.4-.4-.92-.59-1.43-.59-.52 0-1.04.2-1.43.59L10.3 9.45l-7.72 7.72c-.78.78-.78 2.05 0 2.83L4 21.41c.39.39.9.59 1.41.59.51 0 1.02-.2 1.41-.59l7.78-7.78 2.81-2.81c.8-.78.8-2.07 0-2.86zM5.41 20L4 18.59l7.72-7.72 1.47 1.35L5.41 20z\"/>\n",
              "  </svg>\n",
              "      </button>\n",
              "      \n",
              "  <style>\n",
              "    .colab-df-container {\n",
              "      display:flex;\n",
              "      flex-wrap:wrap;\n",
              "      gap: 12px;\n",
              "    }\n",
              "\n",
              "    .colab-df-convert {\n",
              "      background-color: #E8F0FE;\n",
              "      border: none;\n",
              "      border-radius: 50%;\n",
              "      cursor: pointer;\n",
              "      display: none;\n",
              "      fill: #1967D2;\n",
              "      height: 32px;\n",
              "      padding: 0 0 0 0;\n",
              "      width: 32px;\n",
              "    }\n",
              "\n",
              "    .colab-df-convert:hover {\n",
              "      background-color: #E2EBFA;\n",
              "      box-shadow: 0px 1px 2px rgba(60, 64, 67, 0.3), 0px 1px 3px 1px rgba(60, 64, 67, 0.15);\n",
              "      fill: #174EA6;\n",
              "    }\n",
              "\n",
              "    [theme=dark] .colab-df-convert {\n",
              "      background-color: #3B4455;\n",
              "      fill: #D2E3FC;\n",
              "    }\n",
              "\n",
              "    [theme=dark] .colab-df-convert:hover {\n",
              "      background-color: #434B5C;\n",
              "      box-shadow: 0px 1px 3px 1px rgba(0, 0, 0, 0.15);\n",
              "      filter: drop-shadow(0px 1px 2px rgba(0, 0, 0, 0.3));\n",
              "      fill: #FFFFFF;\n",
              "    }\n",
              "  </style>\n",
              "\n",
              "      <script>\n",
              "        const buttonEl =\n",
              "          document.querySelector('#df-9c6b04d1-74be-4435-aa25-f46f061b1c66 button.colab-df-convert');\n",
              "        buttonEl.style.display =\n",
              "          google.colab.kernel.accessAllowed ? 'block' : 'none';\n",
              "\n",
              "        async function convertToInteractive(key) {\n",
              "          const element = document.querySelector('#df-9c6b04d1-74be-4435-aa25-f46f061b1c66');\n",
              "          const dataTable =\n",
              "            await google.colab.kernel.invokeFunction('convertToInteractive',\n",
              "                                                     [key], {});\n",
              "          if (!dataTable) return;\n",
              "\n",
              "          const docLinkHtml = 'Like what you see? Visit the ' +\n",
              "            '<a target=\"_blank\" href=https://colab.research.google.com/notebooks/data_table.ipynb>data table notebook</a>'\n",
              "            + ' to learn more about interactive tables.';\n",
              "          element.innerHTML = '';\n",
              "          dataTable['output_type'] = 'display_data';\n",
              "          await google.colab.output.renderOutput(dataTable, element);\n",
              "          const docLink = document.createElement('div');\n",
              "          docLink.innerHTML = docLinkHtml;\n",
              "          element.appendChild(docLink);\n",
              "        }\n",
              "      </script>\n",
              "    </div>\n",
              "  </div>\n",
              "  "
            ]
          },
          "metadata": {},
          "execution_count": 13
        }
      ]
    },
    {
      "cell_type": "markdown",
      "source": [
        "\n",
        "\n",
        "---\n",
        "\n",
        "\n",
        "- สร้าง Data Frame ของ male ตั้งเเต่ปี 2543 ถึง ปี 2561"
      ],
      "metadata": {
        "id": "zxnT0-taOJ_D"
      }
    },
    {
      "cell_type": "code",
      "source": [
        "analysisPopOfMale = popperarea.filter(regex=\"male\")\n",
        "datafe=analysisPopOfMale.filter(regex= \"fe\")\n",
        "analysisPopOfMale.drop(datafe, inplace=True, axis=1)\n",
        "male = ['male54',\t'male55',\t'male56',\t'male57',\t'male58',\t'male59',\t'male61']\n",
        "# analysisPopOfMale.info()\n",
        "# analysisPopOfMale.describe()\n",
        "analysisPopOfMale"
      ],
      "metadata": {
        "colab": {
          "base_uri": "https://localhost:8080/"
        },
        "outputId": "e53aec4f-8f6c-4bd8-f391-6bb5725c916d",
        "id": "S8kQZiRfOJ_E"
      },
      "execution_count": null,
      "outputs": [
        {
          "output_type": "stream",
          "name": "stderr",
          "text": [
            "/usr/local/lib/python3.7/dist-packages/pandas/core/frame.py:4913: SettingWithCopyWarning: \n",
            "A value is trying to be set on a copy of a slice from a DataFrame\n",
            "\n",
            "See the caveats in the documentation: https://pandas.pydata.org/pandas-docs/stable/user_guide/indexing.html#returning-a-view-versus-a-copy\n",
            "  errors=errors,\n"
          ]
        },
        {
          "output_type": "execute_result",
          "data": {
            "text/plain": [
              "        male54  male55  male56  male57  male58  male59  male61\n",
              "scode                                                         \n",
              "105001   50376   50478   50830   51309   51405   51240   51240\n",
              "104901   24501   24730   25097   25182   25388   25528   25528\n",
              "104902   30073   30179   30360   31002   31246   31413   31413\n",
              "104802   24783   24997   25213   25370   25498   25630   25630\n",
              "104801   10413   10490   10542   10603   10641   10703   10703\n",
              "...        ...     ...     ...     ...     ...     ...     ...\n",
              "100110    3435    3366    3262    3200    3140    3045    3045\n",
              "100111    2749    2653    2591    2514    2448    2389    2389\n",
              "100107    2598    2535    2454    2372    2326    2219    2219\n",
              "100108    1321    1302    1271    1244    1220    1171    1171\n",
              "100109    1070    1052    1028    1013     999     967     967\n",
              "\n",
              "[169 rows x 7 columns]"
            ],
            "text/html": [
              "\n",
              "  <div id=\"df-b021f94a-9a82-4847-98db-d7d84baf7e48\">\n",
              "    <div class=\"colab-df-container\">\n",
              "      <div>\n",
              "<style scoped>\n",
              "    .dataframe tbody tr th:only-of-type {\n",
              "        vertical-align: middle;\n",
              "    }\n",
              "\n",
              "    .dataframe tbody tr th {\n",
              "        vertical-align: top;\n",
              "    }\n",
              "\n",
              "    .dataframe thead th {\n",
              "        text-align: right;\n",
              "    }\n",
              "</style>\n",
              "<table border=\"1\" class=\"dataframe\">\n",
              "  <thead>\n",
              "    <tr style=\"text-align: right;\">\n",
              "      <th></th>\n",
              "      <th>male54</th>\n",
              "      <th>male55</th>\n",
              "      <th>male56</th>\n",
              "      <th>male57</th>\n",
              "      <th>male58</th>\n",
              "      <th>male59</th>\n",
              "      <th>male61</th>\n",
              "    </tr>\n",
              "    <tr>\n",
              "      <th>scode</th>\n",
              "      <th></th>\n",
              "      <th></th>\n",
              "      <th></th>\n",
              "      <th></th>\n",
              "      <th></th>\n",
              "      <th></th>\n",
              "      <th></th>\n",
              "    </tr>\n",
              "  </thead>\n",
              "  <tbody>\n",
              "    <tr>\n",
              "      <th>105001</th>\n",
              "      <td>50376</td>\n",
              "      <td>50478</td>\n",
              "      <td>50830</td>\n",
              "      <td>51309</td>\n",
              "      <td>51405</td>\n",
              "      <td>51240</td>\n",
              "      <td>51240</td>\n",
              "    </tr>\n",
              "    <tr>\n",
              "      <th>104901</th>\n",
              "      <td>24501</td>\n",
              "      <td>24730</td>\n",
              "      <td>25097</td>\n",
              "      <td>25182</td>\n",
              "      <td>25388</td>\n",
              "      <td>25528</td>\n",
              "      <td>25528</td>\n",
              "    </tr>\n",
              "    <tr>\n",
              "      <th>104902</th>\n",
              "      <td>30073</td>\n",
              "      <td>30179</td>\n",
              "      <td>30360</td>\n",
              "      <td>31002</td>\n",
              "      <td>31246</td>\n",
              "      <td>31413</td>\n",
              "      <td>31413</td>\n",
              "    </tr>\n",
              "    <tr>\n",
              "      <th>104802</th>\n",
              "      <td>24783</td>\n",
              "      <td>24997</td>\n",
              "      <td>25213</td>\n",
              "      <td>25370</td>\n",
              "      <td>25498</td>\n",
              "      <td>25630</td>\n",
              "      <td>25630</td>\n",
              "    </tr>\n",
              "    <tr>\n",
              "      <th>104801</th>\n",
              "      <td>10413</td>\n",
              "      <td>10490</td>\n",
              "      <td>10542</td>\n",
              "      <td>10603</td>\n",
              "      <td>10641</td>\n",
              "      <td>10703</td>\n",
              "      <td>10703</td>\n",
              "    </tr>\n",
              "    <tr>\n",
              "      <th>...</th>\n",
              "      <td>...</td>\n",
              "      <td>...</td>\n",
              "      <td>...</td>\n",
              "      <td>...</td>\n",
              "      <td>...</td>\n",
              "      <td>...</td>\n",
              "      <td>...</td>\n",
              "    </tr>\n",
              "    <tr>\n",
              "      <th>100110</th>\n",
              "      <td>3435</td>\n",
              "      <td>3366</td>\n",
              "      <td>3262</td>\n",
              "      <td>3200</td>\n",
              "      <td>3140</td>\n",
              "      <td>3045</td>\n",
              "      <td>3045</td>\n",
              "    </tr>\n",
              "    <tr>\n",
              "      <th>100111</th>\n",
              "      <td>2749</td>\n",
              "      <td>2653</td>\n",
              "      <td>2591</td>\n",
              "      <td>2514</td>\n",
              "      <td>2448</td>\n",
              "      <td>2389</td>\n",
              "      <td>2389</td>\n",
              "    </tr>\n",
              "    <tr>\n",
              "      <th>100107</th>\n",
              "      <td>2598</td>\n",
              "      <td>2535</td>\n",
              "      <td>2454</td>\n",
              "      <td>2372</td>\n",
              "      <td>2326</td>\n",
              "      <td>2219</td>\n",
              "      <td>2219</td>\n",
              "    </tr>\n",
              "    <tr>\n",
              "      <th>100108</th>\n",
              "      <td>1321</td>\n",
              "      <td>1302</td>\n",
              "      <td>1271</td>\n",
              "      <td>1244</td>\n",
              "      <td>1220</td>\n",
              "      <td>1171</td>\n",
              "      <td>1171</td>\n",
              "    </tr>\n",
              "    <tr>\n",
              "      <th>100109</th>\n",
              "      <td>1070</td>\n",
              "      <td>1052</td>\n",
              "      <td>1028</td>\n",
              "      <td>1013</td>\n",
              "      <td>999</td>\n",
              "      <td>967</td>\n",
              "      <td>967</td>\n",
              "    </tr>\n",
              "  </tbody>\n",
              "</table>\n",
              "<p>169 rows × 7 columns</p>\n",
              "</div>\n",
              "      <button class=\"colab-df-convert\" onclick=\"convertToInteractive('df-b021f94a-9a82-4847-98db-d7d84baf7e48')\"\n",
              "              title=\"Convert this dataframe to an interactive table.\"\n",
              "              style=\"display:none;\">\n",
              "        \n",
              "  <svg xmlns=\"http://www.w3.org/2000/svg\" height=\"24px\"viewBox=\"0 0 24 24\"\n",
              "       width=\"24px\">\n",
              "    <path d=\"M0 0h24v24H0V0z\" fill=\"none\"/>\n",
              "    <path d=\"M18.56 5.44l.94 2.06.94-2.06 2.06-.94-2.06-.94-.94-2.06-.94 2.06-2.06.94zm-11 1L8.5 8.5l.94-2.06 2.06-.94-2.06-.94L8.5 2.5l-.94 2.06-2.06.94zm10 10l.94 2.06.94-2.06 2.06-.94-2.06-.94-.94-2.06-.94 2.06-2.06.94z\"/><path d=\"M17.41 7.96l-1.37-1.37c-.4-.4-.92-.59-1.43-.59-.52 0-1.04.2-1.43.59L10.3 9.45l-7.72 7.72c-.78.78-.78 2.05 0 2.83L4 21.41c.39.39.9.59 1.41.59.51 0 1.02-.2 1.41-.59l7.78-7.78 2.81-2.81c.8-.78.8-2.07 0-2.86zM5.41 20L4 18.59l7.72-7.72 1.47 1.35L5.41 20z\"/>\n",
              "  </svg>\n",
              "      </button>\n",
              "      \n",
              "  <style>\n",
              "    .colab-df-container {\n",
              "      display:flex;\n",
              "      flex-wrap:wrap;\n",
              "      gap: 12px;\n",
              "    }\n",
              "\n",
              "    .colab-df-convert {\n",
              "      background-color: #E8F0FE;\n",
              "      border: none;\n",
              "      border-radius: 50%;\n",
              "      cursor: pointer;\n",
              "      display: none;\n",
              "      fill: #1967D2;\n",
              "      height: 32px;\n",
              "      padding: 0 0 0 0;\n",
              "      width: 32px;\n",
              "    }\n",
              "\n",
              "    .colab-df-convert:hover {\n",
              "      background-color: #E2EBFA;\n",
              "      box-shadow: 0px 1px 2px rgba(60, 64, 67, 0.3), 0px 1px 3px 1px rgba(60, 64, 67, 0.15);\n",
              "      fill: #174EA6;\n",
              "    }\n",
              "\n",
              "    [theme=dark] .colab-df-convert {\n",
              "      background-color: #3B4455;\n",
              "      fill: #D2E3FC;\n",
              "    }\n",
              "\n",
              "    [theme=dark] .colab-df-convert:hover {\n",
              "      background-color: #434B5C;\n",
              "      box-shadow: 0px 1px 3px 1px rgba(0, 0, 0, 0.15);\n",
              "      filter: drop-shadow(0px 1px 2px rgba(0, 0, 0, 0.3));\n",
              "      fill: #FFFFFF;\n",
              "    }\n",
              "  </style>\n",
              "\n",
              "      <script>\n",
              "        const buttonEl =\n",
              "          document.querySelector('#df-b021f94a-9a82-4847-98db-d7d84baf7e48 button.colab-df-convert');\n",
              "        buttonEl.style.display =\n",
              "          google.colab.kernel.accessAllowed ? 'block' : 'none';\n",
              "\n",
              "        async function convertToInteractive(key) {\n",
              "          const element = document.querySelector('#df-b021f94a-9a82-4847-98db-d7d84baf7e48');\n",
              "          const dataTable =\n",
              "            await google.colab.kernel.invokeFunction('convertToInteractive',\n",
              "                                                     [key], {});\n",
              "          if (!dataTable) return;\n",
              "\n",
              "          const docLinkHtml = 'Like what you see? Visit the ' +\n",
              "            '<a target=\"_blank\" href=https://colab.research.google.com/notebooks/data_table.ipynb>data table notebook</a>'\n",
              "            + ' to learn more about interactive tables.';\n",
              "          element.innerHTML = '';\n",
              "          dataTable['output_type'] = 'display_data';\n",
              "          await google.colab.output.renderOutput(dataTable, element);\n",
              "          const docLink = document.createElement('div');\n",
              "          docLink.innerHTML = docLinkHtml;\n",
              "          element.appendChild(docLink);\n",
              "        }\n",
              "      </script>\n",
              "    </div>\n",
              "  </div>\n",
              "  "
            ]
          },
          "metadata": {},
          "execution_count": 14
        }
      ]
    },
    {
      "cell_type": "markdown",
      "source": [
        "\n",
        "\n",
        "---\n",
        "\n",
        "\n",
        "# Data Visualization\n",
        "\n",
        "\n",
        "\n",
        "---\n",
        "\n",
        "\n",
        "\n",
        "\n",
        "\n",
        "\n"
      ],
      "metadata": {
        "id": "yTdxw33cJ2U2"
      }
    },
    {
      "cell_type": "code",
      "source": [
        "import matplotlib.pyplot as plt"
      ],
      "metadata": {
        "id": "juOwB6lEJ2U9"
      },
      "execution_count": null,
      "outputs": []
    },
    {
      "cell_type": "markdown",
      "source": [
        "## female population"
      ],
      "metadata": {
        "id": "YPXYWHUNdaXv"
      }
    },
    {
      "cell_type": "markdown",
      "source": [
        "\n",
        "\n",
        "\n",
        "--->    **polt line chart ของ ค่าเฉลี่ยของประชากรหญิง ตั้งเเต่ปี 2554 ถึง ปี 2561** (เพื่อใช้เป็นตัวเเทนของข้อมูลประชากรหญิงในทุกเเขวงของกรุงเทพ)"
      ],
      "metadata": {
        "id": "w8gE1u2YfiWa"
      }
    },
    {
      "cell_type": "code",
      "source": [
        "#Ploting Line Plots\n",
        "plt.plot(analysisPopOfFemale.mean(),'p-')\n",
        "\n",
        "#Set Title & Axis\n",
        "plt.title(\"female population\")\n",
        "plt.xlabel(\" 2554 - 2561\")\n",
        "plt.ylabel(\"number of persons\")\n",
        "# #Set Grid & Background\n",
        "# plt.rcParams['axes.facecolor'] = 'white' #Background Color\n",
        "#plt.grid(c='grey') #Grid Color\n",
        "# plt.show()"
      ],
      "metadata": {
        "colab": {
          "base_uri": "https://localhost:8080/",
          "height": 312
        },
        "outputId": "186ce4c5-a39e-4439-848c-743f62d28281",
        "id": "neFMqlRweNXB"
      },
      "execution_count": null,
      "outputs": [
        {
          "output_type": "execute_result",
          "data": {
            "text/plain": [
              "Text(0, 0.5, 'number of persons')"
            ]
          },
          "metadata": {},
          "execution_count": 16
        },
        {
          "output_type": "display_data",
          "data": {
            "text/plain": [
              "<Figure size 432x288 with 1 Axes>"
            ],
            "image/png": "[encoded data removed]"
          },
          "metadata": {
            "needs_background": "light"
          }
        }
      ]
    },
    {
      "cell_type": "markdown",
      "source": [
        "\n",
        "> สังเกตได้ว่า ประชากรหญิง ลดลงอย่างมากในช่วงปี 2555 เเละเพิ่มขึ้นอย่างน่าตกใจในปีถัดไป ยังคงเพิ่มขึ้นอย่างต่อเนื่อง ตลอดจนจำนวนเริ่มคงที่ตั้งเเต่ปี 2558 ถึง ปี 2561\n",
        "\n"
      ],
      "metadata": {
        "id": "jizhNWcAgNIH"
      }
    },
    {
      "cell_type": "markdown",
      "source": [
        "\n",
        "\n",
        "---\n",
        "\n",
        "\n",
        "- polt line chart ของ female ตั้งเเต่ปี 2554 ถึง ปี 2561 อย่างสุ่ม 3 ตัวอย่าง"
      ],
      "metadata": {
        "id": "GDdTNk9oJ2U9"
      }
    },
    {
      "cell_type": "code",
      "source": [
        "analysisPopOfFemale.sample(3, random_state=11)"
      ],
      "metadata": {
        "colab": {
          "base_uri": "https://localhost:8080/",
          "height": 219
        },
        "outputId": "ac5cca2b-36fb-4333-e32e-4104f1dbb8de",
        "id": "xcwkEGKEJ2U9"
      },
      "execution_count": null,
      "outputs": [
        {
          "output_type": "execute_result",
          "data": {
            "text/plain": [
              "        female54  female55  female56  female57  female58  female59  female61\n",
              "scode                                                                       \n",
              "103101     13696     13489     13336     13313     13335     13378     13378\n",
              "101001     49814     50353     50954     51437     51627     51699     51699\n",
              "105001     54392     54683     55255     55831     55966     55896     55896"
            ],
            "text/html": [
              "\n",
              "  <div id=\"df-28e7dda5-ab61-4110-b041-bb5862504d33\">\n",
              "    <div class=\"colab-df-container\">\n",
              "      <div>\n",
              "<style scoped>\n",
              "    .dataframe tbody tr th:only-of-type {\n",
              "        vertical-align: middle;\n",
              "    }\n",
              "\n",
              "    .dataframe tbody tr th {\n",
              "        vertical-align: top;\n",
              "    }\n",
              "\n",
              "    .dataframe thead th {\n",
              "        text-align: right;\n",
              "    }\n",
              "</style>\n",
              "<table border=\"1\" class=\"dataframe\">\n",
              "  <thead>\n",
              "    <tr style=\"text-align: right;\">\n",
              "      <th></th>\n",
              "      <th>female54</th>\n",
              "      <th>female55</th>\n",
              "      <th>female56</th>\n",
              "      <th>female57</th>\n",
              "      <th>female58</th>\n",
              "      <th>female59</th>\n",
              "      <th>female61</th>\n",
              "    </tr>\n",
              "    <tr>\n",
              "      <th>scode</th>\n",
              "      <th></th>\n",
              "      <th></th>\n",
              "      <th></th>\n",
              "      <th></th>\n",
              "      <th></th>\n",
              "      <th></th>\n",
              "      <th></th>\n",
              "    </tr>\n",
              "  </thead>\n",
              "  <tbody>\n",
              "    <tr>\n",
              "      <th>103101</th>\n",
              "      <td>13696</td>\n",
              "      <td>13489</td>\n",
              "      <td>13336</td>\n",
              "      <td>13313</td>\n",
              "      <td>13335</td>\n",
              "      <td>13378</td>\n",
              "      <td>13378</td>\n",
              "    </tr>\n",
              "    <tr>\n",
              "      <th>101001</th>\n",
              "      <td>49814</td>\n",
              "      <td>50353</td>\n",
              "      <td>50954</td>\n",
              "      <td>51437</td>\n",
              "      <td>51627</td>\n",
              "      <td>51699</td>\n",
              "      <td>51699</td>\n",
              "    </tr>\n",
              "    <tr>\n",
              "      <th>105001</th>\n",
              "      <td>54392</td>\n",
              "      <td>54683</td>\n",
              "      <td>55255</td>\n",
              "      <td>55831</td>\n",
              "      <td>55966</td>\n",
              "      <td>55896</td>\n",
              "      <td>55896</td>\n",
              "    </tr>\n",
              "  </tbody>\n",
              "</table>\n",
              "</div>\n",
              "      <button class=\"colab-df-convert\" onclick=\"convertToInteractive('df-28e7dda5-ab61-4110-b041-bb5862504d33')\"\n",
              "              title=\"Convert this dataframe to an interactive table.\"\n",
              "              style=\"display:none;\">\n",
              "        \n",
              "  <svg xmlns=\"http://www.w3.org/2000/svg\" height=\"24px\"viewBox=\"0 0 24 24\"\n",
              "       width=\"24px\">\n",
              "    <path d=\"M0 0h24v24H0V0z\" fill=\"none\"/>\n",
              "    <path d=\"M18.56 5.44l.94 2.06.94-2.06 2.06-.94-2.06-.94-.94-2.06-.94 2.06-2.06.94zm-11 1L8.5 8.5l.94-2.06 2.06-.94-2.06-.94L8.5 2.5l-.94 2.06-2.06.94zm10 10l.94 2.06.94-2.06 2.06-.94-2.06-.94-.94-2.06-.94 2.06-2.06.94z\"/><path d=\"M17.41 7.96l-1.37-1.37c-.4-.4-.92-.59-1.43-.59-.52 0-1.04.2-1.43.59L10.3 9.45l-7.72 7.72c-.78.78-.78 2.05 0 2.83L4 21.41c.39.39.9.59 1.41.59.51 0 1.02-.2 1.41-.59l7.78-7.78 2.81-2.81c.8-.78.8-2.07 0-2.86zM5.41 20L4 18.59l7.72-7.72 1.47 1.35L5.41 20z\"/>\n",
              "  </svg>\n",
              "      </button>\n",
              "      \n",
              "  <style>\n",
              "    .colab-df-container {\n",
              "      display:flex;\n",
              "      flex-wrap:wrap;\n",
              "      gap: 12px;\n",
              "    }\n",
              "\n",
              "    .colab-df-convert {\n",
              "      background-color: #E8F0FE;\n",
              "      border: none;\n",
              "      border-radius: 50%;\n",
              "      cursor: pointer;\n",
              "      display: none;\n",
              "      fill: #1967D2;\n",
              "      height: 32px;\n",
              "      padding: 0 0 0 0;\n",
              "      width: 32px;\n",
              "    }\n",
              "\n",
              "    .colab-df-convert:hover {\n",
              "      background-color: #E2EBFA;\n",
              "      box-shadow: 0px 1px 2px rgba(60, 64, 67, 0.3), 0px 1px 3px 1px rgba(60, 64, 67, 0.15);\n",
              "      fill: #174EA6;\n",
              "    }\n",
              "\n",
              "    [theme=dark] .colab-df-convert {\n",
              "      background-color: #3B4455;\n",
              "      fill: #D2E3FC;\n",
              "    }\n",
              "\n",
              "    [theme=dark] .colab-df-convert:hover {\n",
              "      background-color: #434B5C;\n",
              "      box-shadow: 0px 1px 3px 1px rgba(0, 0, 0, 0.15);\n",
              "      filter: drop-shadow(0px 1px 2px rgba(0, 0, 0, 0.3));\n",
              "      fill: #FFFFFF;\n",
              "    }\n",
              "  </style>\n",
              "\n",
              "      <script>\n",
              "        const buttonEl =\n",
              "          document.querySelector('#df-28e7dda5-ab61-4110-b041-bb5862504d33 button.colab-df-convert');\n",
              "        buttonEl.style.display =\n",
              "          google.colab.kernel.accessAllowed ? 'block' : 'none';\n",
              "\n",
              "        async function convertToInteractive(key) {\n",
              "          const element = document.querySelector('#df-28e7dda5-ab61-4110-b041-bb5862504d33');\n",
              "          const dataTable =\n",
              "            await google.colab.kernel.invokeFunction('convertToInteractive',\n",
              "                                                     [key], {});\n",
              "          if (!dataTable) return;\n",
              "\n",
              "          const docLinkHtml = 'Like what you see? Visit the ' +\n",
              "            '<a target=\"_blank\" href=https://colab.research.google.com/notebooks/data_table.ipynb>data table notebook</a>'\n",
              "            + ' to learn more about interactive tables.';\n",
              "          element.innerHTML = '';\n",
              "          dataTable['output_type'] = 'display_data';\n",
              "          await google.colab.output.renderOutput(dataTable, element);\n",
              "          const docLink = document.createElement('div');\n",
              "          docLink.innerHTML = docLinkHtml;\n",
              "          element.appendChild(docLink);\n",
              "        }\n",
              "      </script>\n",
              "    </div>\n",
              "  </div>\n",
              "  "
            ]
          },
          "metadata": {},
          "execution_count": 17
        }
      ]
    },
    {
      "cell_type": "code",
      "source": [
        "#Ploting Line Plots\n",
        "plt.plot(analysisPopOfFemale.loc['103101',female],'p-',label = '103101')\n",
        "plt.plot(analysisPopOfFemale.loc['101001',female],'p-',label = '101001')\n",
        "plt.plot(analysisPopOfFemale.loc['105001',female],'p-',label = '105001')\n",
        "\n",
        "#Set Title & Axis\n",
        "plt.title(\"female population \")\n",
        "plt.xlabel(\" 2554 - 2561\")\n",
        "plt.ylabel(\"number of persons\")\n",
        "# #Set Grid & Background\n",
        "# plt.rcParams['axes.facecolor'] = 'white' #Background Color\n",
        "#plt.grid(c='grey') #Grid Color\n",
        "plt.legend()\n",
        "# plt.show()"
      ],
      "metadata": {
        "colab": {
          "base_uri": "https://localhost:8080/",
          "height": 312
        },
        "id": "bEDuBSusIcox",
        "outputId": "04bfeb8a-ce9a-4728-c17d-8289c59c2bae"
      },
      "execution_count": null,
      "outputs": [
        {
          "output_type": "execute_result",
          "data": {
            "text/plain": [
              "<matplotlib.legend.Legend at 0x7f7afb5a8390>"
            ]
          },
          "metadata": {},
          "execution_count": 18
        },
        {
          "output_type": "display_data",
          "data": {
            "text/plain": [
              "<Figure size 432x288 with 1 Axes>"
            ],
            "image/png": "[encoded data removed]"
          },
          "metadata": {
            "needs_background": "light"
          }
        }
      ]
    },
    {
      "cell_type": "markdown",
      "source": [
        ">เเขวง 103101 มีเเนวโน้มลดลงของจำนวนประชากร ต่างจากเเขวงที่เหลือซึ่งมีเเนวโน้มของจำนวนประชากรที่เพิ่มชึ้น"
      ],
      "metadata": {
        "id": "XrW45bM6ct9b"
      }
    },
    {
      "cell_type": "markdown",
      "source": [
        "\n",
        "\n",
        "---\n",
        "\n",
        "\n",
        "**นำ analysisPopOfFemale มา sum จนเหลือเเถวเดียว (รวมทุกเเขวงในกรุงเทพ) จะได้ประชากรหญิง ของ กรุงเทพ ตั้งเเต่ปี 2554 ถึง ปี 2561**"
      ],
      "metadata": {
        "id": "yDDjrwimpcUG"
      }
    },
    {
      "cell_type": "code",
      "source": [
        "start_row = 0\n",
        "\n",
        "analysisPopOfFemale.iloc[start_row] = analysisPopOfFemale.iloc[start_row:].sum()\n",
        "analysisPopOfFemale = analysisPopOfFemale.iloc[:start_row+1]\n",
        "# sum\n",
        "\n",
        "\n",
        "#Ploting Line Plots\n",
        "plt.plot(analysisPopOfFemale.loc['105001',female],'-p')\n",
        "\n",
        "# # #Set Title & Axis\n",
        "plt.title(\"female population in bankok \")\n",
        "plt.xlabel(\" 2554 - 2561\")\n",
        "plt.ylabel(\"number of persons\")\n",
        "# # #Set Grid & Background\n",
        "# # plt.rcParams['axes.facecolor'] = 'white' #Background Color\n",
        "# #plt.grid(c='grey') #Grid Color\n",
        "# # plt.legend()\n",
        "# # plt.show()"
      ],
      "metadata": {
        "colab": {
          "base_uri": "https://localhost:8080/",
          "height": 506
        },
        "id": "hhrie2p2qEW1",
        "outputId": "d8cad9bc-8e4a-4ac0-fa58-92ad33bc1ea5"
      },
      "execution_count": null,
      "outputs": [
        {
          "output_type": "stream",
          "name": "stderr",
          "text": [
            "/usr/local/lib/python3.7/dist-packages/pandas/core/indexing.py:1732: SettingWithCopyWarning: \n",
            "A value is trying to be set on a copy of a slice from a DataFrame\n",
            "\n",
            "See the caveats in the documentation: https://pandas.pydata.org/pandas-docs/stable/user_guide/indexing.html#returning-a-view-versus-a-copy\n",
            "  self._setitem_single_block(indexer, value, name)\n",
            "/usr/local/lib/python3.7/dist-packages/pandas/core/indexing.py:723: SettingWithCopyWarning: \n",
            "A value is trying to be set on a copy of a slice from a DataFrame\n",
            "\n",
            "See the caveats in the documentation: https://pandas.pydata.org/pandas-docs/stable/user_guide/indexing.html#returning-a-view-versus-a-copy\n",
            "  iloc._setitem_with_indexer(indexer, value, self.name)\n"
          ]
        },
        {
          "output_type": "execute_result",
          "data": {
            "text/plain": [
              "Text(0, 0.5, 'number of persons')"
            ]
          },
          "metadata": {},
          "execution_count": 19
        },
        {
          "output_type": "display_data",
          "data": {
            "text/plain": [
              "<Figure size 432x288 with 1 Axes>"
            ],
            "image/png": "[encoded data removed]"
          },
          "metadata": {
            "needs_background": "light"
          }
        }
      ]
    },
    {
      "cell_type": "markdown",
      "source": [
        "> การฟมีรูปเเบบเหมือน **กราฟค่าเฉลี่ย** เเต่ต่างตรงที่เเสดงจำนวนทั้งหมดของประชากรหญิงในกรุงเทพ"
      ],
      "metadata": {
        "id": "d3CfLKAdcQfD"
      }
    },
    {
      "cell_type": "markdown",
      "source": [
        "\n",
        "\n",
        "---\n",
        "\n"
      ],
      "metadata": {
        "id": "MOBvuENZdMgZ"
      }
    },
    {
      "cell_type": "markdown",
      "source": [
        "## Male population\n",
        "\n",
        "\n",
        "\n"
      ],
      "metadata": {
        "id": "pL3YrBIFdQMg"
      }
    },
    {
      "cell_type": "markdown",
      "source": [
        "\n",
        "\n",
        "---\n",
        "--->    **polt line chart ของ ค่าเฉลี่ยของประชากรชาย ตั้งเเต่ปี 2554 ถึง ปี 2561** (เพื่อใช้เป็นตัวเเทนของข้อมูลประชากรชายในทุกเเขวงของกรุงเทพ)"
      ],
      "metadata": {
        "id": "tB1Y6pcddUvH"
      }
    },
    {
      "cell_type": "code",
      "source": [
        "#Ploting Line Plots\n",
        "plt.plot(analysisPopOfMale.mean(),'p-')\n",
        "\n",
        "#Set Title & Axis\n",
        "plt.title(\"male population\")\n",
        "plt.xlabel(\" 2554 - 2561\")\n",
        "plt.ylabel(\"number of persons\")\n",
        "# #Set Grid & Background\n",
        "# plt.rcParams['axes.facecolor'] = 'white' #Background Color\n",
        "#plt.grid(c='grey') #Grid Color\n",
        "# plt.show()"
      ],
      "metadata": {
        "colab": {
          "base_uri": "https://localhost:8080/",
          "height": 312
        },
        "outputId": "a1af6716-7ede-48f3-e6cc-980fbeca8a41",
        "id": "AUJyr52JdUvI"
      },
      "execution_count": null,
      "outputs": [
        {
          "output_type": "execute_result",
          "data": {
            "text/plain": [
              "Text(0, 0.5, 'number of persons')"
            ]
          },
          "metadata": {},
          "execution_count": 20
        },
        {
          "output_type": "display_data",
          "data": {
            "text/plain": [
              "<Figure size 432x288 with 1 Axes>"
            ],
            "image/png": "[encoded data removed]"
          },
          "metadata": {
            "needs_background": "light"
          }
        }
      ]
    },
    {
      "cell_type": "markdown",
      "source": [
        "\n",
        "\n",
        "\n",
        ">สังเกตได้ว่า ตั้งเเต่ปี 2554 ถึง ปี 2558 ประชากรชายมีเเนวโน้มที่จะเพิ่มขึ้น เเละ ลดลงอย่างมากในปีถัดไป"
      ],
      "metadata": {
        "id": "6tnFjsZontA5"
      }
    },
    {
      "cell_type": "markdown",
      "source": [
        "\n",
        "\n",
        "---\n",
        "\n",
        "\n",
        "- polt line chart ของ male ตั้งเเต่ปี 2554 ถึง ปี 2561 อย่างสุ่ม 3 ตัวอย่าง"
      ],
      "metadata": {
        "id": "adbLZiQWdUvI"
      }
    },
    {
      "cell_type": "code",
      "source": [
        "analysisPopOfMale.sample(3, random_state=5)"
      ],
      "metadata": {
        "colab": {
          "base_uri": "https://localhost:8080/",
          "height": 175
        },
        "outputId": "7fba25fe-d955-4579-9a19-40aeee6782d6",
        "id": "3bpewIisdUvI"
      },
      "execution_count": null,
      "outputs": [
        {
          "output_type": "execute_result",
          "data": {
            "text/plain": [
              "        male54  male55  male56  male57  male58  male59  male61\n",
              "scode                                                         \n",
              "101301    4224    4157    4102    4001    3937    3781    3781\n",
              "103001   22202   21687   21457   21126   20907   20544   20544\n",
              "100102    6367    6401    6311    6223    6066    5984    5984"
            ],
            "text/html": [
              "\n",
              "  <div id=\"df-d49b762d-90b4-43bd-bd2c-dae9602137c1\">\n",
              "    <div class=\"colab-df-container\">\n",
              "      <div>\n",
              "<style scoped>\n",
              "    .dataframe tbody tr th:only-of-type {\n",
              "        vertical-align: middle;\n",
              "    }\n",
              "\n",
              "    .dataframe tbody tr th {\n",
              "        vertical-align: top;\n",
              "    }\n",
              "\n",
              "    .dataframe thead th {\n",
              "        text-align: right;\n",
              "    }\n",
              "</style>\n",
              "<table border=\"1\" class=\"dataframe\">\n",
              "  <thead>\n",
              "    <tr style=\"text-align: right;\">\n",
              "      <th></th>\n",
              "      <th>male54</th>\n",
              "      <th>male55</th>\n",
              "      <th>male56</th>\n",
              "      <th>male57</th>\n",
              "      <th>male58</th>\n",
              "      <th>male59</th>\n",
              "      <th>male61</th>\n",
              "    </tr>\n",
              "    <tr>\n",
              "      <th>scode</th>\n",
              "      <th></th>\n",
              "      <th></th>\n",
              "      <th></th>\n",
              "      <th></th>\n",
              "      <th></th>\n",
              "      <th></th>\n",
              "      <th></th>\n",
              "    </tr>\n",
              "  </thead>\n",
              "  <tbody>\n",
              "    <tr>\n",
              "      <th>101301</th>\n",
              "      <td>4224</td>\n",
              "      <td>4157</td>\n",
              "      <td>4102</td>\n",
              "      <td>4001</td>\n",
              "      <td>3937</td>\n",
              "      <td>3781</td>\n",
              "      <td>3781</td>\n",
              "    </tr>\n",
              "    <tr>\n",
              "      <th>103001</th>\n",
              "      <td>22202</td>\n",
              "      <td>21687</td>\n",
              "      <td>21457</td>\n",
              "      <td>21126</td>\n",
              "      <td>20907</td>\n",
              "      <td>20544</td>\n",
              "      <td>20544</td>\n",
              "    </tr>\n",
              "    <tr>\n",
              "      <th>100102</th>\n",
              "      <td>6367</td>\n",
              "      <td>6401</td>\n",
              "      <td>6311</td>\n",
              "      <td>6223</td>\n",
              "      <td>6066</td>\n",
              "      <td>5984</td>\n",
              "      <td>5984</td>\n",
              "    </tr>\n",
              "  </tbody>\n",
              "</table>\n",
              "</div>\n",
              "      <button class=\"colab-df-convert\" onclick=\"convertToInteractive('df-d49b762d-90b4-43bd-bd2c-dae9602137c1')\"\n",
              "              title=\"Convert this dataframe to an interactive table.\"\n",
              "              style=\"display:none;\">\n",
              "        \n",
              "  <svg xmlns=\"http://www.w3.org/2000/svg\" height=\"24px\"viewBox=\"0 0 24 24\"\n",
              "       width=\"24px\">\n",
              "    <path d=\"M0 0h24v24H0V0z\" fill=\"none\"/>\n",
              "    <path d=\"M18.56 5.44l.94 2.06.94-2.06 2.06-.94-2.06-.94-.94-2.06-.94 2.06-2.06.94zm-11 1L8.5 8.5l.94-2.06 2.06-.94-2.06-.94L8.5 2.5l-.94 2.06-2.06.94zm10 10l.94 2.06.94-2.06 2.06-.94-2.06-.94-.94-2.06-.94 2.06-2.06.94z\"/><path d=\"M17.41 7.96l-1.37-1.37c-.4-.4-.92-.59-1.43-.59-.52 0-1.04.2-1.43.59L10.3 9.45l-7.72 7.72c-.78.78-.78 2.05 0 2.83L4 21.41c.39.39.9.59 1.41.59.51 0 1.02-.2 1.41-.59l7.78-7.78 2.81-2.81c.8-.78.8-2.07 0-2.86zM5.41 20L4 18.59l7.72-7.72 1.47 1.35L5.41 20z\"/>\n",
              "  </svg>\n",
              "      </button>\n",
              "      \n",
              "  <style>\n",
              "    .colab-df-container {\n",
              "      display:flex;\n",
              "      flex-wrap:wrap;\n",
              "      gap: 12px;\n",
              "    }\n",
              "\n",
              "    .colab-df-convert {\n",
              "      background-color: #E8F0FE;\n",
              "      border: none;\n",
              "      border-radius: 50%;\n",
              "      cursor: pointer;\n",
              "      display: none;\n",
              "      fill: #1967D2;\n",
              "      height: 32px;\n",
              "      padding: 0 0 0 0;\n",
              "      width: 32px;\n",
              "    }\n",
              "\n",
              "    .colab-df-convert:hover {\n",
              "      background-color: #E2EBFA;\n",
              "      box-shadow: 0px 1px 2px rgba(60, 64, 67, 0.3), 0px 1px 3px 1px rgba(60, 64, 67, 0.15);\n",
              "      fill: #174EA6;\n",
              "    }\n",
              "\n",
              "    [theme=dark] .colab-df-convert {\n",
              "      background-color: #3B4455;\n",
              "      fill: #D2E3FC;\n",
              "    }\n",
              "\n",
              "    [theme=dark] .colab-df-convert:hover {\n",
              "      background-color: #434B5C;\n",
              "      box-shadow: 0px 1px 3px 1px rgba(0, 0, 0, 0.15);\n",
              "      filter: drop-shadow(0px 1px 2px rgba(0, 0, 0, 0.3));\n",
              "      fill: #FFFFFF;\n",
              "    }\n",
              "  </style>\n",
              "\n",
              "      <script>\n",
              "        const buttonEl =\n",
              "          document.querySelector('#df-d49b762d-90b4-43bd-bd2c-dae9602137c1 button.colab-df-convert');\n",
              "        buttonEl.style.display =\n",
              "          google.colab.kernel.accessAllowed ? 'block' : 'none';\n",
              "\n",
              "        async function convertToInteractive(key) {\n",
              "          const element = document.querySelector('#df-d49b762d-90b4-43bd-bd2c-dae9602137c1');\n",
              "          const dataTable =\n",
              "            await google.colab.kernel.invokeFunction('convertToInteractive',\n",
              "                                                     [key], {});\n",
              "          if (!dataTable) return;\n",
              "\n",
              "          const docLinkHtml = 'Like what you see? Visit the ' +\n",
              "            '<a target=\"_blank\" href=https://colab.research.google.com/notebooks/data_table.ipynb>data table notebook</a>'\n",
              "            + ' to learn more about interactive tables.';\n",
              "          element.innerHTML = '';\n",
              "          dataTable['output_type'] = 'display_data';\n",
              "          await google.colab.output.renderOutput(dataTable, element);\n",
              "          const docLink = document.createElement('div');\n",
              "          docLink.innerHTML = docLinkHtml;\n",
              "          element.appendChild(docLink);\n",
              "        }\n",
              "      </script>\n",
              "    </div>\n",
              "  </div>\n",
              "  "
            ]
          },
          "metadata": {},
          "execution_count": 21
        }
      ]
    },
    {
      "cell_type": "code",
      "source": [
        "\n",
        "#Ploting Line Plots\n",
        "plt.plot(analysisPopOfMale.loc['101301',male],'p-',label = '101301')\n",
        "plt.plot(analysisPopOfMale.loc['103001',male],'p-',label = '103001')\n",
        "plt.plot(analysisPopOfMale.loc['100102',male],'p-',label = '100102')\n",
        "\n",
        "#Set Title & Axis\n",
        "plt.title(\" male population \")\n",
        "plt.xlabel(\" 2554 - 2561\")\n",
        "plt.ylabel(\"number of persons\")\n",
        "# #Set Grid & Background\n",
        "# plt.rcParams['axes.facecolor'] = 'white' #Background Color\n",
        "#plt.grid(c='grey') #Grid Color\n",
        "plt.legend()\n",
        "# plt.show()"
      ],
      "metadata": {
        "colab": {
          "base_uri": "https://localhost:8080/",
          "height": 312
        },
        "outputId": "ed5031d3-0e6e-4db7-d7c0-7c6dedc8609b",
        "id": "K7abUZLCdUvJ"
      },
      "execution_count": null,
      "outputs": [
        {
          "output_type": "execute_result",
          "data": {
            "text/plain": [
              "<matplotlib.legend.Legend at 0x7f7afaf86f50>"
            ]
          },
          "metadata": {},
          "execution_count": 22
        },
        {
          "output_type": "display_data",
          "data": {
            "text/plain": [
              "<Figure size 432x288 with 1 Axes>"
            ],
            "image/png": "[encoded data removed]"
          },
          "metadata": {
            "needs_background": "light"
          }
        }
      ]
    },
    {
      "cell_type": "markdown",
      "source": [
        ">เเขวง 103101 มีเเนวโน้มลดลงของจำนวนประชากรในอัตราที่ **มากกว่า** เเขวงที่เหลือ"
      ],
      "metadata": {
        "id": "5l-mCAMIdUvJ"
      }
    },
    {
      "cell_type": "markdown",
      "source": [
        "\n",
        "\n",
        "---\n",
        "\n",
        "\n",
        "**นำ analysisPopOfmale มา sum จนเหลือเเถวเดียว (รวมทุกเเขวงในกรุงเทพ) จะได้ประชากรชาย ของ กรุงเทพ ตั้งเเต่ปี 2554 ถึง ปี 2561**"
      ],
      "metadata": {
        "id": "WdXHRqtqdUvJ"
      }
    },
    {
      "cell_type": "code",
      "source": [
        "start_row = 0\n",
        "\n",
        "analysisPopOfMale.iloc[start_row] = analysisPopOfMale.iloc[start_row:].sum()\n",
        "analysisPopOfMale = analysisPopOfMale.iloc[:start_row+1]\n",
        "\n",
        "# analysisPopOfMale\n",
        "\n",
        "# Ploting Line Plots\n",
        "plt.plot(analysisPopOfMale.loc['105001',male],'-p')\n",
        "\n",
        "# # #Set Title & Axis\n",
        "plt.title(\"male population in bankok \")\n",
        "plt.xlabel(\" 2554 - 2561\")\n",
        "plt.ylabel(\"number of persons\")\n",
        "# # #Set Grid & Background\n",
        "# # plt.rcParams['axes.facecolor'] = 'white' #Background Color\n",
        "# #plt.grid(c='grey') #Grid Color\n",
        "# # plt.legend()\n",
        "# # plt.show()"
      ],
      "metadata": {
        "colab": {
          "base_uri": "https://localhost:8080/",
          "height": 506
        },
        "outputId": "fb50d023-425b-4445-fed7-fd25d7f1952b",
        "id": "7anTCUmidUvJ"
      },
      "execution_count": null,
      "outputs": [
        {
          "output_type": "stream",
          "name": "stderr",
          "text": [
            "/usr/local/lib/python3.7/dist-packages/pandas/core/indexing.py:1732: SettingWithCopyWarning: \n",
            "A value is trying to be set on a copy of a slice from a DataFrame\n",
            "\n",
            "See the caveats in the documentation: https://pandas.pydata.org/pandas-docs/stable/user_guide/indexing.html#returning-a-view-versus-a-copy\n",
            "  self._setitem_single_block(indexer, value, name)\n",
            "/usr/local/lib/python3.7/dist-packages/pandas/core/indexing.py:723: SettingWithCopyWarning: \n",
            "A value is trying to be set on a copy of a slice from a DataFrame\n",
            "\n",
            "See the caveats in the documentation: https://pandas.pydata.org/pandas-docs/stable/user_guide/indexing.html#returning-a-view-versus-a-copy\n",
            "  iloc._setitem_with_indexer(indexer, value, self.name)\n"
          ]
        },
        {
          "output_type": "execute_result",
          "data": {
            "text/plain": [
              "Text(0, 0.5, 'number of persons')"
            ]
          },
          "metadata": {},
          "execution_count": 23
        },
        {
          "output_type": "display_data",
          "data": {
            "text/plain": [
              "<Figure size 432x288 with 1 Axes>"
            ],
            "image/png": "[encoded data removed]"
          },
          "metadata": {
            "needs_background": "light"
          }
        }
      ]
    },
    {
      "cell_type": "markdown",
      "source": [
        "> การฟมีรูปเเบบเหมือน **กราฟค่าเฉลี่ย** เเต่ต่างตรงที่เเสดงจำนวนทั้งหมดของประชากรชายในกรุงเทพ"
      ],
      "metadata": {
        "id": "9xrt1_yAdUvJ"
      }
    },
    {
      "cell_type": "markdown",
      "source": [
        "\n",
        "\n",
        "---\n",
        "\n"
      ],
      "metadata": {
        "id": "6wAFCJOedUvJ"
      }
    },
    {
      "cell_type": "markdown",
      "source": [
        "## House population\n",
        "\n",
        "\n",
        "\n"
      ],
      "metadata": {
        "id": "6-D8KRl8ntA4"
      }
    },
    {
      "cell_type": "markdown",
      "source": [
        "\n",
        "\n",
        "---\n",
        "--->    **polt line chart ของ ค่าเฉลี่ยของจำนวนบ้านในกรุงเทพ ตั้งเเต่ปี 2554 ถึง ปี 2561** (เพื่อใช้เป็นตัวเเทนของข้อมูลจำนวนบ้านในกรุงเทพในทุกเเขวงของกรุงเทพ)"
      ],
      "metadata": {
        "id": "gWYQ6XcfntA4"
      }
    },
    {
      "cell_type": "code",
      "source": [
        "#Ploting Line Plots\n",
        "plt.plot(analysisPopOfHouse.mean(),'p-')\n",
        "\n",
        "#Set Title & Axis\n",
        "plt.title(\"house \")\n",
        "plt.xlabel(\" 2554 - 2561\")\n",
        "plt.ylabel(\"number of houses\")\n",
        "# #Set Grid & Background\n",
        "# plt.rcParams['axes.facecolor'] = 'white' #Background Color\n",
        "#plt.grid(c='grey') #Grid Color\n",
        "# plt.show()"
      ],
      "metadata": {
        "colab": {
          "base_uri": "https://localhost:8080/",
          "height": 312
        },
        "outputId": "5042bc23-c338-4cc6-a72f-2d1fab064b03",
        "id": "HFsHP0EMntA5"
      },
      "execution_count": null,
      "outputs": [
        {
          "output_type": "execute_result",
          "data": {
            "text/plain": [
              "Text(0, 0.5, 'number of houses')"
            ]
          },
          "metadata": {},
          "execution_count": 24
        },
        {
          "output_type": "display_data",
          "data": {
            "text/plain": [
              "<Figure size 432x288 with 1 Axes>"
            ],
            "image/png": "[encoded data removed]"
          },
          "metadata": {
            "needs_background": "light"
          }
        }
      ]
    },
    {
      "cell_type": "markdown",
      "source": [
        "\n",
        "\n",
        "\n",
        ">สังเกตได้ว่า ตั้งเเต่ปี 2554 ถึง ปี 2559 ค่าเฉลี่ยของบ้านที่ถูกปลูกเพิ่มขึ้นปีละประมาณ 500 หลัง เเละ เเละคงที่จนถึงปี 2561"
      ],
      "metadata": {
        "id": "5xDjacw3tej7"
      }
    },
    {
      "cell_type": "markdown",
      "source": [
        "\n",
        "\n",
        "---\n",
        "\n",
        "\n",
        "- polt line chart ของ จำนวนบ้านในกรุงเทพ ตั้งเเต่ปี 2554 ถึง ปี 2561 อย่างสุ่ม 3 ตัวอย่าง"
      ],
      "metadata": {
        "id": "Ya7pXJKTntA5"
      }
    },
    {
      "cell_type": "code",
      "source": [
        "analysisPopOfHouse.sample(3, random_state=6)"
      ],
      "metadata": {
        "colab": {
          "base_uri": "https://localhost:8080/",
          "height": 175
        },
        "outputId": "118af581-8857-4590-a7fe-1612e450ea39",
        "id": "ZNfK-E39ntA5"
      },
      "execution_count": null,
      "outputs": [
        {
          "output_type": "execute_result",
          "data": {
            "text/plain": [
              "        house54  house55  house56  house57  house58  house59  house61\n",
              "scode                                                                \n",
              "101905     6656     6864     7103     7316     7430     7638     7638\n",
              "102007    12997    13101    13123    13150    14655    14673    14673\n",
              "103604    33335    33815    34426    35055    35385    36006    36006"
            ],
            "text/html": [
              "\n",
              "  <div id=\"df-048e1d26-2b27-4101-8d1a-2c54d9f5c13f\">\n",
              "    <div class=\"colab-df-container\">\n",
              "      <div>\n",
              "<style scoped>\n",
              "    .dataframe tbody tr th:only-of-type {\n",
              "        vertical-align: middle;\n",
              "    }\n",
              "\n",
              "    .dataframe tbody tr th {\n",
              "        vertical-align: top;\n",
              "    }\n",
              "\n",
              "    .dataframe thead th {\n",
              "        text-align: right;\n",
              "    }\n",
              "</style>\n",
              "<table border=\"1\" class=\"dataframe\">\n",
              "  <thead>\n",
              "    <tr style=\"text-align: right;\">\n",
              "      <th></th>\n",
              "      <th>house54</th>\n",
              "      <th>house55</th>\n",
              "      <th>house56</th>\n",
              "      <th>house57</th>\n",
              "      <th>house58</th>\n",
              "      <th>house59</th>\n",
              "      <th>house61</th>\n",
              "    </tr>\n",
              "    <tr>\n",
              "      <th>scode</th>\n",
              "      <th></th>\n",
              "      <th></th>\n",
              "      <th></th>\n",
              "      <th></th>\n",
              "      <th></th>\n",
              "      <th></th>\n",
              "      <th></th>\n",
              "    </tr>\n",
              "  </thead>\n",
              "  <tbody>\n",
              "    <tr>\n",
              "      <th>101905</th>\n",
              "      <td>6656</td>\n",
              "      <td>6864</td>\n",
              "      <td>7103</td>\n",
              "      <td>7316</td>\n",
              "      <td>7430</td>\n",
              "      <td>7638</td>\n",
              "      <td>7638</td>\n",
              "    </tr>\n",
              "    <tr>\n",
              "      <th>102007</th>\n",
              "      <td>12997</td>\n",
              "      <td>13101</td>\n",
              "      <td>13123</td>\n",
              "      <td>13150</td>\n",
              "      <td>14655</td>\n",
              "      <td>14673</td>\n",
              "      <td>14673</td>\n",
              "    </tr>\n",
              "    <tr>\n",
              "      <th>103604</th>\n",
              "      <td>33335</td>\n",
              "      <td>33815</td>\n",
              "      <td>34426</td>\n",
              "      <td>35055</td>\n",
              "      <td>35385</td>\n",
              "      <td>36006</td>\n",
              "      <td>36006</td>\n",
              "    </tr>\n",
              "  </tbody>\n",
              "</table>\n",
              "</div>\n",
              "      <button class=\"colab-df-convert\" onclick=\"convertToInteractive('df-048e1d26-2b27-4101-8d1a-2c54d9f5c13f')\"\n",
              "              title=\"Convert this dataframe to an interactive table.\"\n",
              "              style=\"display:none;\">\n",
              "        \n",
              "  <svg xmlns=\"http://www.w3.org/2000/svg\" height=\"24px\"viewBox=\"0 0 24 24\"\n",
              "       width=\"24px\">\n",
              "    <path d=\"M0 0h24v24H0V0z\" fill=\"none\"/>\n",
              "    <path d=\"M18.56 5.44l.94 2.06.94-2.06 2.06-.94-2.06-.94-.94-2.06-.94 2.06-2.06.94zm-11 1L8.5 8.5l.94-2.06 2.06-.94-2.06-.94L8.5 2.5l-.94 2.06-2.06.94zm10 10l.94 2.06.94-2.06 2.06-.94-2.06-.94-.94-2.06-.94 2.06-2.06.94z\"/><path d=\"M17.41 7.96l-1.37-1.37c-.4-.4-.92-.59-1.43-.59-.52 0-1.04.2-1.43.59L10.3 9.45l-7.72 7.72c-.78.78-.78 2.05 0 2.83L4 21.41c.39.39.9.59 1.41.59.51 0 1.02-.2 1.41-.59l7.78-7.78 2.81-2.81c.8-.78.8-2.07 0-2.86zM5.41 20L4 18.59l7.72-7.72 1.47 1.35L5.41 20z\"/>\n",
              "  </svg>\n",
              "      </button>\n",
              "      \n",
              "  <style>\n",
              "    .colab-df-container {\n",
              "      display:flex;\n",
              "      flex-wrap:wrap;\n",
              "      gap: 12px;\n",
              "    }\n",
              "\n",
              "    .colab-df-convert {\n",
              "      background-color: #E8F0FE;\n",
              "      border: none;\n",
              "      border-radius: 50%;\n",
              "      cursor: pointer;\n",
              "      display: none;\n",
              "      fill: #1967D2;\n",
              "      height: 32px;\n",
              "      padding: 0 0 0 0;\n",
              "      width: 32px;\n",
              "    }\n",
              "\n",
              "    .colab-df-convert:hover {\n",
              "      background-color: #E2EBFA;\n",
              "      box-shadow: 0px 1px 2px rgba(60, 64, 67, 0.3), 0px 1px 3px 1px rgba(60, 64, 67, 0.15);\n",
              "      fill: #174EA6;\n",
              "    }\n",
              "\n",
              "    [theme=dark] .colab-df-convert {\n",
              "      background-color: #3B4455;\n",
              "      fill: #D2E3FC;\n",
              "    }\n",
              "\n",
              "    [theme=dark] .colab-df-convert:hover {\n",
              "      background-color: #434B5C;\n",
              "      box-shadow: 0px 1px 3px 1px rgba(0, 0, 0, 0.15);\n",
              "      filter: drop-shadow(0px 1px 2px rgba(0, 0, 0, 0.3));\n",
              "      fill: #FFFFFF;\n",
              "    }\n",
              "  </style>\n",
              "\n",
              "      <script>\n",
              "        const buttonEl =\n",
              "          document.querySelector('#df-048e1d26-2b27-4101-8d1a-2c54d9f5c13f button.colab-df-convert');\n",
              "        buttonEl.style.display =\n",
              "          google.colab.kernel.accessAllowed ? 'block' : 'none';\n",
              "\n",
              "        async function convertToInteractive(key) {\n",
              "          const element = document.querySelector('#df-048e1d26-2b27-4101-8d1a-2c54d9f5c13f');\n",
              "          const dataTable =\n",
              "            await google.colab.kernel.invokeFunction('convertToInteractive',\n",
              "                                                     [key], {});\n",
              "          if (!dataTable) return;\n",
              "\n",
              "          const docLinkHtml = 'Like what you see? Visit the ' +\n",
              "            '<a target=\"_blank\" href=https://colab.research.google.com/notebooks/data_table.ipynb>data table notebook</a>'\n",
              "            + ' to learn more about interactive tables.';\n",
              "          element.innerHTML = '';\n",
              "          dataTable['output_type'] = 'display_data';\n",
              "          await google.colab.output.renderOutput(dataTable, element);\n",
              "          const docLink = document.createElement('div');\n",
              "          docLink.innerHTML = docLinkHtml;\n",
              "          element.appendChild(docLink);\n",
              "        }\n",
              "      </script>\n",
              "    </div>\n",
              "  </div>\n",
              "  "
            ]
          },
          "metadata": {},
          "execution_count": 25
        }
      ]
    },
    {
      "cell_type": "code",
      "source": [
        "#Ploting Line Plots\n",
        "plt.plot(analysisPopOfHouse.loc['101905',house],'p-',label = '101905')\n",
        "plt.plot(analysisPopOfHouse.loc['102007',house],'p-',label = '102007')\n",
        "plt.plot(analysisPopOfHouse.loc['103604',house],'p-',label = '103604')\n",
        "\n",
        "#Set Title & Axis\n",
        "plt.title(\"house \")\n",
        "plt.xlabel(\" 2554 - 2561\")\n",
        "plt.ylabel(\"number of houses\")\n",
        "# #Set Grid & Background\n",
        "# plt.rcParams['axes.facecolor'] = 'white' #Background Color\n",
        "#plt.grid(c='grey') #Grid Color\n",
        "plt.legend()\n",
        "# plt.show()"
      ],
      "metadata": {
        "colab": {
          "base_uri": "https://localhost:8080/",
          "height": 312
        },
        "outputId": "fb557b37-8126-4250-a9ec-292041f4fbe7",
        "id": "-C1E9wUNntA6"
      },
      "execution_count": null,
      "outputs": [
        {
          "output_type": "execute_result",
          "data": {
            "text/plain": [
              "<matplotlib.legend.Legend at 0x7f7afb008850>"
            ]
          },
          "metadata": {},
          "execution_count": 26
        },
        {
          "output_type": "display_data",
          "data": {
            "text/plain": [
              "<Figure size 432x288 with 1 Axes>"
            ],
            "image/png": "[encoded data removed]"
          },
          "metadata": {
            "needs_background": "light"
          }
        }
      ]
    },
    {
      "cell_type": "markdown",
      "source": [
        ">ทุกเเขวงมีเเนวโน้มที่จะเพิ่มขึ้นทุกปี"
      ],
      "metadata": {
        "id": "hbDqrZVantA6"
      }
    },
    {
      "cell_type": "markdown",
      "source": [
        "\n",
        "\n",
        "---\n",
        "\n",
        "\n",
        "**นำ analysisPopOfHouse มา sum จนเหลือเเถวเดียว (รวมทุกเเขวงในกรุงเทพ) จะได้จำนวนบ้านทั้งหมดในกรุงเทพ ตั้งเเต่ปี 2554 ถึง ปี 2561**"
      ],
      "metadata": {
        "id": "Ey9urtYfntA6"
      }
    },
    {
      "cell_type": "code",
      "source": [
        "start_row = 0\n",
        "\n",
        "analysisPopOfHouse.iloc[start_row] = analysisPopOfHouse.iloc[start_row:].sum()\n",
        "analysisPopOfHouse = analysisPopOfHouse.iloc[:start_row+1]\n",
        "# sum\n",
        "\n",
        "\n",
        "#Ploting Line Plots\n",
        "plt.plot(analysisPopOfHouse.loc['105001',house],'-p')\n",
        "\n",
        "# # #Set Title & Axis\n",
        "plt.title(\"House in bankok \")\n",
        "plt.xlabel(\" 2554 - 2561\")\n",
        "plt.ylabel(\"number of house\")\n",
        "# # #Set Grid & Background\n",
        "# # plt.rcParams['axes.facecolor'] = 'white' #Background Color\n",
        "# #plt.grid(c='grey') #Grid Color\n",
        "# # plt.legend()\n",
        "# # plt.show()"
      ],
      "metadata": {
        "colab": {
          "base_uri": "https://localhost:8080/",
          "height": 506
        },
        "outputId": "c58315a1-a29f-4ede-ccf7-f822373eeb48",
        "id": "ZQbG1BCBntA6"
      },
      "execution_count": null,
      "outputs": [
        {
          "output_type": "stream",
          "name": "stderr",
          "text": [
            "/usr/local/lib/python3.7/dist-packages/pandas/core/indexing.py:1732: SettingWithCopyWarning: \n",
            "A value is trying to be set on a copy of a slice from a DataFrame\n",
            "\n",
            "See the caveats in the documentation: https://pandas.pydata.org/pandas-docs/stable/user_guide/indexing.html#returning-a-view-versus-a-copy\n",
            "  self._setitem_single_block(indexer, value, name)\n",
            "/usr/local/lib/python3.7/dist-packages/pandas/core/indexing.py:723: SettingWithCopyWarning: \n",
            "A value is trying to be set on a copy of a slice from a DataFrame\n",
            "\n",
            "See the caveats in the documentation: https://pandas.pydata.org/pandas-docs/stable/user_guide/indexing.html#returning-a-view-versus-a-copy\n",
            "  iloc._setitem_with_indexer(indexer, value, self.name)\n"
          ]
        },
        {
          "output_type": "execute_result",
          "data": {
            "text/plain": [
              "Text(0, 0.5, 'number of house')"
            ]
          },
          "metadata": {},
          "execution_count": 27
        },
        {
          "output_type": "display_data",
          "data": {
            "text/plain": [
              "<Figure size 432x288 with 1 Axes>"
            ],
            "image/png": "[encoded data removed]"
          },
          "metadata": {
            "needs_background": "light"
          }
        }
      ]
    },
    {
      "cell_type": "markdown",
      "source": [
        "> การฟมีรูปเเบบเหมือน **กราฟค่าเฉลี่ย** เเต่ต่างตรงที่เเสดงจำนวนทั้งหมดของบ้านในกรุงเทพ"
      ],
      "metadata": {
        "id": "0etLUgnAntA6"
      }
    },
    {
      "cell_type": "markdown",
      "source": [
        "\n",
        "\n",
        "---\n",
        "\n"
      ],
      "metadata": {
        "id": "hxxH-t12ntA6"
      }
    },
    {
      "cell_type": "markdown",
      "source": [
        "## Multiple Graph"
      ],
      "metadata": {
        "id": "9TwOb1sTu_Zx"
      }
    },
    {
      "cell_type": "markdown",
      "source": [
        "### Female and Male\n",
        "\n",
        ">**เเสดงความสัมพันธ์ระหว่างจำนวนประชากรของหญิงเเละชายในเเต่ละปี**\n",
        "\n",
        "\n"
      ],
      "metadata": {
        "id": "deF6DMpBvFhh"
      }
    },
    {
      "cell_type": "code",
      "source": [
        "\n",
        "analysisPopOfMale.columns = ['2554', '2555', '2556', '2557','2558','2559','2561']\n",
        "analysisPopOfFemale.columns = ['2554', '2555', '2556', '2557','2558','2559','2561']\n",
        "\n",
        "frames = [analysisPopOfMale, analysisPopOfFemale]\n",
        "result = pd.concat(frames)\n",
        "\n",
        "sex = ['male','female']\n",
        "result['sex'] = sex\n",
        "\n",
        "result.set_index('sex',inplace = True)\n",
        "# result = pd.concat([maleInBankok, femaleInBankok], axis=1)\n",
        "\n",
        "# result.T.plot(kind='line')\n",
        "# plt.title(\"mele and female population in bankok\")\n",
        "# plt.xlabel(\"year\")\n",
        "# plt.ylabel(\"number of people\")\n",
        "\n",
        "print(result.T)\n",
        "\n",
        "result.T.plot.area() #Stacked Area Chart\n",
        "plt.title(\"mele and female population in bankok\")\n",
        "plt.xlabel(\"year\")\n",
        "plt.ylabel(\"number of people\")\n",
        "# plt.show()\n",
        "\n",
        "# result.T.plot() #Line Chart\n",
        "# plt.title(\"mele and female population in bankok\")\n",
        "# plt.xlabel(\"year\")\n",
        "# plt.ylabel(\"number of people\")\n",
        "# # plt.show()\n",
        "\n",
        "result.T.plot(kind='bar')\n",
        "plt.title(\"mele and female population in bankok\")\n",
        "plt.xlabel(\"year\")\n",
        "plt.ylabel(\"number of people\")\n"
      ],
      "metadata": {
        "colab": {
          "base_uri": "https://localhost:8080/",
          "height": 745
        },
        "id": "AmhXOIq4wwGT",
        "outputId": "0acb929e-70ff-4968-9e4c-d815a8bbcd8a"
      },
      "execution_count": null,
      "outputs": [
        {
          "output_type": "stream",
          "name": "stdout",
          "text": [
            "sex      male   female\n",
            "2554  2692954  2981889\n",
            "2555  2691049  2962177\n",
            "2556  2694921  2991331\n",
            "2557  2695519  2996765\n",
            "2558  2696098  2999462\n",
            "2559  2687253  2999393\n",
            "2561  2687253  2999393\n"
          ]
        },
        {
          "output_type": "execute_result",
          "data": {
            "text/plain": [
              "Text(0, 0.5, 'number of people')"
            ]
          },
          "metadata": {},
          "execution_count": 28
        },
        {
          "output_type": "display_data",
          "data": {
            "text/plain": [
              "<Figure size 432x288 with 1 Axes>"
            ],
            "image/png": "[encoded data removed]"
          },
          "metadata": {
            "needs_background": "light"
          }
        },
        {
          "output_type": "display_data",
          "data": {
            "text/plain": [
              "<Figure size 432x288 with 1 Axes>"
            ],
            "image/png": "[encoded data removed]"
          },
          "metadata": {
            "needs_background": "light"
          }
        }
      ]
    },
    {
      "cell_type": "markdown",
      "source": [
        "### Population and Housing\n",
        ">**เเสดงความสัมพันธ์ระหว่างจำนวนประชากรเเละบ้านในกรุงเทพ ตั้งเเต่ปี 2554 ถึงปี 2561**\n"
      ],
      "metadata": {
        "id": "XBpHjjSoCHOQ"
      }
    },
    {
      "cell_type": "markdown",
      "source": [
        "จัด dataframe ใหม่"
      ],
      "metadata": {
        "id": "koKw2pqlYgQc"
      }
    },
    {
      "cell_type": "code",
      "source": [
        "start_row = 0\n",
        "\n",
        "result.iloc[start_row] = result.iloc[start_row:].sum()\n",
        "pop = result.iloc[:start_row+1]\n",
        "# pop\n",
        "population = ['population']\n",
        "pop['population'] = population\n",
        "pop.set_index('population',inplace=True)\n",
        "\n",
        "pop"
      ],
      "metadata": {
        "colab": {
          "base_uri": "https://localhost:8080/",
          "height": 236
        },
        "id": "0-Zhh7XbEA3-",
        "outputId": "2b09faff-0b15-4956-9248-33a4183da210"
      },
      "execution_count": null,
      "outputs": [
        {
          "output_type": "stream",
          "name": "stderr",
          "text": [
            "/usr/local/lib/python3.7/dist-packages/ipykernel_launcher.py:7: SettingWithCopyWarning: \n",
            "A value is trying to be set on a copy of a slice from a DataFrame.\n",
            "Try using .loc[row_indexer,col_indexer] = value instead\n",
            "\n",
            "See the caveats in the documentation: https://pandas.pydata.org/pandas-docs/stable/user_guide/indexing.html#returning-a-view-versus-a-copy\n",
            "  import sys\n"
          ]
        },
        {
          "output_type": "execute_result",
          "data": {
            "text/plain": [
              "               2554     2555     2556     2557     2558     2559     2561\n",
              "population                                                               \n",
              "population  5674843  5653226  5686252  5692284  5695560  5686646  5686646"
            ],
            "text/html": [
              "\n",
              "  <div id=\"df-6ee4f996-b47f-4366-b5e1-ccd70f789ce4\">\n",
              "    <div class=\"colab-df-container\">\n",
              "      <div>\n",
              "<style scoped>\n",
              "    .dataframe tbody tr th:only-of-type {\n",
              "        vertical-align: middle;\n",
              "    }\n",
              "\n",
              "    .dataframe tbody tr th {\n",
              "        vertical-align: top;\n",
              "    }\n",
              "\n",
              "    .dataframe thead th {\n",
              "        text-align: right;\n",
              "    }\n",
              "</style>\n",
              "<table border=\"1\" class=\"dataframe\">\n",
              "  <thead>\n",
              "    <tr style=\"text-align: right;\">\n",
              "      <th></th>\n",
              "      <th>2554</th>\n",
              "      <th>2555</th>\n",
              "      <th>2556</th>\n",
              "      <th>2557</th>\n",
              "      <th>2558</th>\n",
              "      <th>2559</th>\n",
              "      <th>2561</th>\n",
              "    </tr>\n",
              "    <tr>\n",
              "      <th>population</th>\n",
              "      <th></th>\n",
              "      <th></th>\n",
              "      <th></th>\n",
              "      <th></th>\n",
              "      <th></th>\n",
              "      <th></th>\n",
              "      <th></th>\n",
              "    </tr>\n",
              "  </thead>\n",
              "  <tbody>\n",
              "    <tr>\n",
              "      <th>population</th>\n",
              "      <td>5674843</td>\n",
              "      <td>5653226</td>\n",
              "      <td>5686252</td>\n",
              "      <td>5692284</td>\n",
              "      <td>5695560</td>\n",
              "      <td>5686646</td>\n",
              "      <td>5686646</td>\n",
              "    </tr>\n",
              "  </tbody>\n",
              "</table>\n",
              "</div>\n",
              "      <button class=\"colab-df-convert\" onclick=\"convertToInteractive('df-6ee4f996-b47f-4366-b5e1-ccd70f789ce4')\"\n",
              "              title=\"Convert this dataframe to an interactive table.\"\n",
              "              style=\"display:none;\">\n",
              "        \n",
              "  <svg xmlns=\"http://www.w3.org/2000/svg\" height=\"24px\"viewBox=\"0 0 24 24\"\n",
              "       width=\"24px\">\n",
              "    <path d=\"M0 0h24v24H0V0z\" fill=\"none\"/>\n",
              "    <path d=\"M18.56 5.44l.94 2.06.94-2.06 2.06-.94-2.06-.94-.94-2.06-.94 2.06-2.06.94zm-11 1L8.5 8.5l.94-2.06 2.06-.94-2.06-.94L8.5 2.5l-.94 2.06-2.06.94zm10 10l.94 2.06.94-2.06 2.06-.94-2.06-.94-.94-2.06-.94 2.06-2.06.94z\"/><path d=\"M17.41 7.96l-1.37-1.37c-.4-.4-.92-.59-1.43-.59-.52 0-1.04.2-1.43.59L10.3 9.45l-7.72 7.72c-.78.78-.78 2.05 0 2.83L4 21.41c.39.39.9.59 1.41.59.51 0 1.02-.2 1.41-.59l7.78-7.78 2.81-2.81c.8-.78.8-2.07 0-2.86zM5.41 20L4 18.59l7.72-7.72 1.47 1.35L5.41 20z\"/>\n",
              "  </svg>\n",
              "      </button>\n",
              "      \n",
              "  <style>\n",
              "    .colab-df-container {\n",
              "      display:flex;\n",
              "      flex-wrap:wrap;\n",
              "      gap: 12px;\n",
              "    }\n",
              "\n",
              "    .colab-df-convert {\n",
              "      background-color: #E8F0FE;\n",
              "      border: none;\n",
              "      border-radius: 50%;\n",
              "      cursor: pointer;\n",
              "      display: none;\n",
              "      fill: #1967D2;\n",
              "      height: 32px;\n",
              "      padding: 0 0 0 0;\n",
              "      width: 32px;\n",
              "    }\n",
              "\n",
              "    .colab-df-convert:hover {\n",
              "      background-color: #E2EBFA;\n",
              "      box-shadow: 0px 1px 2px rgba(60, 64, 67, 0.3), 0px 1px 3px 1px rgba(60, 64, 67, 0.15);\n",
              "      fill: #174EA6;\n",
              "    }\n",
              "\n",
              "    [theme=dark] .colab-df-convert {\n",
              "      background-color: #3B4455;\n",
              "      fill: #D2E3FC;\n",
              "    }\n",
              "\n",
              "    [theme=dark] .colab-df-convert:hover {\n",
              "      background-color: #434B5C;\n",
              "      box-shadow: 0px 1px 3px 1px rgba(0, 0, 0, 0.15);\n",
              "      filter: drop-shadow(0px 1px 2px rgba(0, 0, 0, 0.3));\n",
              "      fill: #FFFFFF;\n",
              "    }\n",
              "  </style>\n",
              "\n",
              "      <script>\n",
              "        const buttonEl =\n",
              "          document.querySelector('#df-6ee4f996-b47f-4366-b5e1-ccd70f789ce4 button.colab-df-convert');\n",
              "        buttonEl.style.display =\n",
              "          google.colab.kernel.accessAllowed ? 'block' : 'none';\n",
              "\n",
              "        async function convertToInteractive(key) {\n",
              "          const element = document.querySelector('#df-6ee4f996-b47f-4366-b5e1-ccd70f789ce4');\n",
              "          const dataTable =\n",
              "            await google.colab.kernel.invokeFunction('convertToInteractive',\n",
              "                                                     [key], {});\n",
              "          if (!dataTable) return;\n",
              "\n",
              "          const docLinkHtml = 'Like what you see? Visit the ' +\n",
              "            '<a target=\"_blank\" href=https://colab.research.google.com/notebooks/data_table.ipynb>data table notebook</a>'\n",
              "            + ' to learn more about interactive tables.';\n",
              "          element.innerHTML = '';\n",
              "          dataTable['output_type'] = 'display_data';\n",
              "          await google.colab.output.renderOutput(dataTable, element);\n",
              "          const docLink = document.createElement('div');\n",
              "          docLink.innerHTML = docLinkHtml;\n",
              "          element.appendChild(docLink);\n",
              "        }\n",
              "      </script>\n",
              "    </div>\n",
              "  </div>\n",
              "  "
            ]
          },
          "metadata": {},
          "execution_count": 29
        }
      ]
    },
    {
      "cell_type": "code",
      "source": [
        "analysisPopOfHouse.columns = ['2554', '2555', '2556', '2557','2558','2559','2561']\n",
        "housing = ['housing']\n",
        "analysisPopOfHouse['housing'] = housing\n",
        "analysisPopOfHouse.set_index('housing',inplace=True)\n",
        "analysisPopOfHouse\n"
      ],
      "metadata": {
        "colab": {
          "base_uri": "https://localhost:8080/",
          "height": 236
        },
        "id": "5wfJSolMOZIk",
        "outputId": "0b9d5fe7-bd3e-4356-b11b-83e5bbeae7dd"
      },
      "execution_count": null,
      "outputs": [
        {
          "output_type": "stream",
          "name": "stderr",
          "text": [
            "/usr/local/lib/python3.7/dist-packages/ipykernel_launcher.py:3: SettingWithCopyWarning: \n",
            "A value is trying to be set on a copy of a slice from a DataFrame.\n",
            "Try using .loc[row_indexer,col_indexer] = value instead\n",
            "\n",
            "See the caveats in the documentation: https://pandas.pydata.org/pandas-docs/stable/user_guide/indexing.html#returning-a-view-versus-a-copy\n",
            "  This is separate from the ipykernel package so we can avoid doing imports until\n"
          ]
        },
        {
          "output_type": "execute_result",
          "data": {
            "text/plain": [
              "            2554     2555     2556     2557     2558     2559     2561\n",
              "housing                                                               \n",
              "housing  2459680  2522855  2593827  2672423  2737669  2816711  2816711"
            ],
            "text/html": [
              "\n",
              "  <div id=\"df-f3a71e95-5a9f-49f5-ade5-ba45ee7b4365\">\n",
              "    <div class=\"colab-df-container\">\n",
              "      <div>\n",
              "<style scoped>\n",
              "    .dataframe tbody tr th:only-of-type {\n",
              "        vertical-align: middle;\n",
              "    }\n",
              "\n",
              "    .dataframe tbody tr th {\n",
              "        vertical-align: top;\n",
              "    }\n",
              "\n",
              "    .dataframe thead th {\n",
              "        text-align: right;\n",
              "    }\n",
              "</style>\n",
              "<table border=\"1\" class=\"dataframe\">\n",
              "  <thead>\n",
              "    <tr style=\"text-align: right;\">\n",
              "      <th></th>\n",
              "      <th>2554</th>\n",
              "      <th>2555</th>\n",
              "      <th>2556</th>\n",
              "      <th>2557</th>\n",
              "      <th>2558</th>\n",
              "      <th>2559</th>\n",
              "      <th>2561</th>\n",
              "    </tr>\n",
              "    <tr>\n",
              "      <th>housing</th>\n",
              "      <th></th>\n",
              "      <th></th>\n",
              "      <th></th>\n",
              "      <th></th>\n",
              "      <th></th>\n",
              "      <th></th>\n",
              "      <th></th>\n",
              "    </tr>\n",
              "  </thead>\n",
              "  <tbody>\n",
              "    <tr>\n",
              "      <th>housing</th>\n",
              "      <td>2459680</td>\n",
              "      <td>2522855</td>\n",
              "      <td>2593827</td>\n",
              "      <td>2672423</td>\n",
              "      <td>2737669</td>\n",
              "      <td>2816711</td>\n",
              "      <td>2816711</td>\n",
              "    </tr>\n",
              "  </tbody>\n",
              "</table>\n",
              "</div>\n",
              "      <button class=\"colab-df-convert\" onclick=\"convertToInteractive('df-f3a71e95-5a9f-49f5-ade5-ba45ee7b4365')\"\n",
              "              title=\"Convert this dataframe to an interactive table.\"\n",
              "              style=\"display:none;\">\n",
              "        \n",
              "  <svg xmlns=\"http://www.w3.org/2000/svg\" height=\"24px\"viewBox=\"0 0 24 24\"\n",
              "       width=\"24px\">\n",
              "    <path d=\"M0 0h24v24H0V0z\" fill=\"none\"/>\n",
              "    <path d=\"M18.56 5.44l.94 2.06.94-2.06 2.06-.94-2.06-.94-.94-2.06-.94 2.06-2.06.94zm-11 1L8.5 8.5l.94-2.06 2.06-.94-2.06-.94L8.5 2.5l-.94 2.06-2.06.94zm10 10l.94 2.06.94-2.06 2.06-.94-2.06-.94-.94-2.06-.94 2.06-2.06.94z\"/><path d=\"M17.41 7.96l-1.37-1.37c-.4-.4-.92-.59-1.43-.59-.52 0-1.04.2-1.43.59L10.3 9.45l-7.72 7.72c-.78.78-.78 2.05 0 2.83L4 21.41c.39.39.9.59 1.41.59.51 0 1.02-.2 1.41-.59l7.78-7.78 2.81-2.81c.8-.78.8-2.07 0-2.86zM5.41 20L4 18.59l7.72-7.72 1.47 1.35L5.41 20z\"/>\n",
              "  </svg>\n",
              "      </button>\n",
              "      \n",
              "  <style>\n",
              "    .colab-df-container {\n",
              "      display:flex;\n",
              "      flex-wrap:wrap;\n",
              "      gap: 12px;\n",
              "    }\n",
              "\n",
              "    .colab-df-convert {\n",
              "      background-color: #E8F0FE;\n",
              "      border: none;\n",
              "      border-radius: 50%;\n",
              "      cursor: pointer;\n",
              "      display: none;\n",
              "      fill: #1967D2;\n",
              "      height: 32px;\n",
              "      padding: 0 0 0 0;\n",
              "      width: 32px;\n",
              "    }\n",
              "\n",
              "    .colab-df-convert:hover {\n",
              "      background-color: #E2EBFA;\n",
              "      box-shadow: 0px 1px 2px rgba(60, 64, 67, 0.3), 0px 1px 3px 1px rgba(60, 64, 67, 0.15);\n",
              "      fill: #174EA6;\n",
              "    }\n",
              "\n",
              "    [theme=dark] .colab-df-convert {\n",
              "      background-color: #3B4455;\n",
              "      fill: #D2E3FC;\n",
              "    }\n",
              "\n",
              "    [theme=dark] .colab-df-convert:hover {\n",
              "      background-color: #434B5C;\n",
              "      box-shadow: 0px 1px 3px 1px rgba(0, 0, 0, 0.15);\n",
              "      filter: drop-shadow(0px 1px 2px rgba(0, 0, 0, 0.3));\n",
              "      fill: #FFFFFF;\n",
              "    }\n",
              "  </style>\n",
              "\n",
              "      <script>\n",
              "        const buttonEl =\n",
              "          document.querySelector('#df-f3a71e95-5a9f-49f5-ade5-ba45ee7b4365 button.colab-df-convert');\n",
              "        buttonEl.style.display =\n",
              "          google.colab.kernel.accessAllowed ? 'block' : 'none';\n",
              "\n",
              "        async function convertToInteractive(key) {\n",
              "          const element = document.querySelector('#df-f3a71e95-5a9f-49f5-ade5-ba45ee7b4365');\n",
              "          const dataTable =\n",
              "            await google.colab.kernel.invokeFunction('convertToInteractive',\n",
              "                                                     [key], {});\n",
              "          if (!dataTable) return;\n",
              "\n",
              "          const docLinkHtml = 'Like what you see? Visit the ' +\n",
              "            '<a target=\"_blank\" href=https://colab.research.google.com/notebooks/data_table.ipynb>data table notebook</a>'\n",
              "            + ' to learn more about interactive tables.';\n",
              "          element.innerHTML = '';\n",
              "          dataTable['output_type'] = 'display_data';\n",
              "          await google.colab.output.renderOutput(dataTable, element);\n",
              "          const docLink = document.createElement('div');\n",
              "          docLink.innerHTML = docLinkHtml;\n",
              "          element.appendChild(docLink);\n",
              "        }\n",
              "      </script>\n",
              "    </div>\n",
              "  </div>\n",
              "  "
            ]
          },
          "metadata": {},
          "execution_count": 30
        }
      ]
    },
    {
      "cell_type": "code",
      "source": [
        "frames02 = [pop, analysisPopOfHouse]\n",
        "result02 = pd.concat(frames02)\n",
        "print(result02)\n",
        "result02.T.plot(kind='bar')"
      ],
      "metadata": {
        "colab": {
          "base_uri": "https://localhost:8080/",
          "height": 361
        },
        "id": "6fizuMRMPNdu",
        "outputId": "ab599bd1-e7a2-46d2-c80b-0d441daa37f3"
      },
      "execution_count": null,
      "outputs": [
        {
          "output_type": "stream",
          "name": "stdout",
          "text": [
            "               2554     2555     2556     2557     2558     2559     2561\n",
            "population  5674843  5653226  5686252  5692284  5695560  5686646  5686646\n",
            "housing     2459680  2522855  2593827  2672423  2737669  2816711  2816711\n"
          ]
        },
        {
          "output_type": "execute_result",
          "data": {
            "text/plain": [
              "<matplotlib.axes._subplots.AxesSubplot at 0x7f7af9f8ef10>"
            ]
          },
          "metadata": {},
          "execution_count": 33
        },
        {
          "output_type": "display_data",
          "data": {
            "text/plain": [
              "<Figure size 432x288 with 1 Axes>"
            ],
            "image/png": "[encoded data removed]"
          },
          "metadata": {
            "needs_background": "light"
          }
        }
      ]
    },
    {
      "cell_type": "markdown",
      "source": [
        "\n",
        "\n",
        "> จำนวนของบ้านในกรุงเทพเป็นครึ่งหนึ่งของจำนวนประชากรในกรุงเทพ\n",
        "\n"
      ],
      "metadata": {
        "id": "7UayraVMRMSd"
      }
    }
  ]
}